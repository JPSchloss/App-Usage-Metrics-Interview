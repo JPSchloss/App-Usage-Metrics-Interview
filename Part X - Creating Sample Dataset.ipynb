{
 "cells": [
  {
   "cell_type": "markdown",
   "metadata": {},
   "source": [
    "# Creating Sample Data\n",
    "\n",
    "Creating a sample dataset for the purpose of sharing this code. The original assessment came with data. "
   ]
  },
  {
   "cell_type": "markdown",
   "metadata": {},
   "source": [
    "## Approach 1"
   ]
  },
  {
   "cell_type": "code",
   "execution_count": 1,
   "metadata": {},
   "outputs": [
    {
     "name": "stderr",
     "output_type": "stream",
     "text": [
      "/opt/anaconda3/lib/python3.8/site-packages/pandas/core/computation/expressions.py:20: UserWarning: Pandas requires version '2.7.3' or newer of 'numexpr' (version '2.7.1' currently installed).\n",
      "  from pandas.core.computation.check import NUMEXPR_INSTALLED\n"
     ]
    }
   ],
   "source": [
    "import string\n",
    "import random\n",
    "import pandas as pd\n",
    "import numpy as np"
   ]
  },
  {
   "cell_type": "code",
   "execution_count": 2,
   "metadata": {},
   "outputs": [],
   "source": [
    "def random_dates(start, end, n=10):\n",
    "    start_u = start.value//(24*60*60*10**9)\n",
    "    end_u = end.value//(24*60*60*10**9)\n",
    "    return pd.to_datetime(np.random.randint(start_u, end_u, n), unit='D')"
   ]
  },
  {
   "cell_type": "markdown",
   "metadata": {},
   "source": [
    "### Creating Dataframe"
   ]
  },
  {
   "cell_type": "code",
   "execution_count": 3,
   "metadata": {},
   "outputs": [],
   "source": [
    "data = pd.DataFrame()"
   ]
  },
  {
   "cell_type": "code",
   "execution_count": 4,
   "metadata": {},
   "outputs": [],
   "source": [
    "start = pd.to_datetime('2021-01-01')\n",
    "end = pd.to_datetime('2022-01-01')\n",
    "\n",
    "data['date'] = random_dates(start, end, 10000000)"
   ]
  },
  {
   "cell_type": "code",
   "execution_count": 5,
   "metadata": {},
   "outputs": [],
   "source": [
    "ids = []\n",
    "\n",
    "for i in range(150000):\n",
    "    ids.append(''.join(random.choices(string.ascii_letters + string.digits, k=30)))\n",
    "\n",
    "data['device_id'] = pd.Series(random.choices(ids, k=len(data)), index=data.index)"
   ]
  },
  {
   "cell_type": "code",
   "execution_count": 7,
   "metadata": {},
   "outputs": [],
   "source": [
    "# This data is sampled from the original file but modified to ensure confidentiality of the data. \n",
    "# Elements here have been modified to preserve the integrity of the original data. \n",
    "\n",
    "data[['sessions', 'tts']] = sample_pool[['sessions', 'tts']].sample(n=len(data), replace=True, ignore_index=True).astype(int)"
   ]
  },
  {
   "cell_type": "code",
   "execution_count": 8,
   "metadata": {},
   "outputs": [],
   "source": [
    "data['month'] = pd.Series(np.random.randint(1, 12, len(data)), index=data.index)"
   ]
  },
  {
   "cell_type": "code",
   "execution_count": 9,
   "metadata": {},
   "outputs": [],
   "source": [
    "apps = ['facebook', 'whatsapp', 'twitter', 'instagram', 'pinterest', 'snapchat', 'youtube', 'tiktok']\n",
    "\n",
    "data['app_name'] = pd.Series(random.choices(apps, k=len(data)), index=data.index)\n",
    "\n",
    "data['android'] = pd.Series(random.choices(['android', 'unknown'], k=len(data)), index=data.index)"
   ]
  },
  {
   "cell_type": "code",
   "execution_count": 10,
   "metadata": {},
   "outputs": [
    {
     "data": {
      "text/html": [
       "<div>\n",
       "<style scoped>\n",
       "    .dataframe tbody tr th:only-of-type {\n",
       "        vertical-align: middle;\n",
       "    }\n",
       "\n",
       "    .dataframe tbody tr th {\n",
       "        vertical-align: top;\n",
       "    }\n",
       "\n",
       "    .dataframe thead th {\n",
       "        text-align: right;\n",
       "    }\n",
       "</style>\n",
       "<table border=\"1\" class=\"dataframe\">\n",
       "  <thead>\n",
       "    <tr style=\"text-align: right;\">\n",
       "      <th></th>\n",
       "      <th>date</th>\n",
       "      <th>device_id</th>\n",
       "      <th>sessions</th>\n",
       "      <th>tts</th>\n",
       "      <th>month</th>\n",
       "      <th>app_name</th>\n",
       "      <th>android</th>\n",
       "    </tr>\n",
       "  </thead>\n",
       "  <tbody>\n",
       "    <tr>\n",
       "      <th>0</th>\n",
       "      <td>2021-05-21</td>\n",
       "      <td>yb0YMYO4QAyxb9cSsO4iGBpV9VSbXa</td>\n",
       "      <td>1</td>\n",
       "      <td>392</td>\n",
       "      <td>3</td>\n",
       "      <td>instagram</td>\n",
       "      <td>unknown</td>\n",
       "    </tr>\n",
       "    <tr>\n",
       "      <th>1</th>\n",
       "      <td>2021-09-26</td>\n",
       "      <td>JzG2JaSOoO7wvPmfmnocXKQdoI9r24</td>\n",
       "      <td>1</td>\n",
       "      <td>6</td>\n",
       "      <td>4</td>\n",
       "      <td>instagram</td>\n",
       "      <td>unknown</td>\n",
       "    </tr>\n",
       "    <tr>\n",
       "      <th>2</th>\n",
       "      <td>2021-11-23</td>\n",
       "      <td>baPdvtjbrRxztRCNnuaQodr6ZvwwFn</td>\n",
       "      <td>2</td>\n",
       "      <td>266</td>\n",
       "      <td>3</td>\n",
       "      <td>whatsapp</td>\n",
       "      <td>android</td>\n",
       "    </tr>\n",
       "    <tr>\n",
       "      <th>3</th>\n",
       "      <td>2021-09-14</td>\n",
       "      <td>TZWfAfy44OfYxSpUJeHr3TXa4Eh6CQ</td>\n",
       "      <td>2</td>\n",
       "      <td>3333</td>\n",
       "      <td>3</td>\n",
       "      <td>youtube</td>\n",
       "      <td>unknown</td>\n",
       "    </tr>\n",
       "    <tr>\n",
       "      <th>4</th>\n",
       "      <td>2021-07-01</td>\n",
       "      <td>8zfpLx8jdEwirtXKTPlrGQUB0y58Rb</td>\n",
       "      <td>22</td>\n",
       "      <td>1987</td>\n",
       "      <td>1</td>\n",
       "      <td>pinterest</td>\n",
       "      <td>android</td>\n",
       "    </tr>\n",
       "  </tbody>\n",
       "</table>\n",
       "</div>"
      ],
      "text/plain": [
       "        date                       device_id  sessions   tts  month  \\\n",
       "0 2021-05-21  yb0YMYO4QAyxb9cSsO4iGBpV9VSbXa         1   392      3   \n",
       "1 2021-09-26  JzG2JaSOoO7wvPmfmnocXKQdoI9r24         1     6      4   \n",
       "2 2021-11-23  baPdvtjbrRxztRCNnuaQodr6ZvwwFn         2   266      3   \n",
       "3 2021-09-14  TZWfAfy44OfYxSpUJeHr3TXa4Eh6CQ         2  3333      3   \n",
       "4 2021-07-01  8zfpLx8jdEwirtXKTPlrGQUB0y58Rb        22  1987      1   \n",
       "\n",
       "    app_name  android  \n",
       "0  instagram  unknown  \n",
       "1  instagram  unknown  \n",
       "2   whatsapp  android  \n",
       "3    youtube  unknown  \n",
       "4  pinterest  android  "
      ]
     },
     "execution_count": 10,
     "metadata": {},
     "output_type": "execute_result"
    }
   ],
   "source": [
    "data.head()"
   ]
  },
  {
   "cell_type": "markdown",
   "metadata": {},
   "source": [
    "### Saving As CSV"
   ]
  },
  {
   "cell_type": "code",
   "execution_count": 11,
   "metadata": {},
   "outputs": [],
   "source": [
    "data.to_csv('sample_data.csv', index=False)"
   ]
  },
  {
   "cell_type": "code",
   "execution_count": null,
   "metadata": {},
   "outputs": [],
   "source": []
  },
  {
   "cell_type": "code",
   "execution_count": null,
   "metadata": {},
   "outputs": [],
   "source": []
  },
  {
   "cell_type": "code",
   "execution_count": null,
   "metadata": {},
   "outputs": [],
   "source": []
  }
 ],
 "metadata": {
  "kernelspec": {
   "display_name": "Python 3",
   "language": "python",
   "name": "python3"
  },
  "language_info": {
   "codemirror_mode": {
    "name": "ipython",
    "version": 3
   },
   "file_extension": ".py",
   "mimetype": "text/x-python",
   "name": "python",
   "nbconvert_exporter": "python",
   "pygments_lexer": "ipython3",
   "version": "3.8.5"
  }
 },
 "nbformat": 4,
 "nbformat_minor": 4
}
