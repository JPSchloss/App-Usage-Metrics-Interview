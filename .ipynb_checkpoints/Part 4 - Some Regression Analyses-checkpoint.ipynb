{
 "cells": [
  {
   "cell_type": "markdown",
   "metadata": {},
   "source": [
    "## Initial Set-Up"
   ]
  },
  {
   "cell_type": "code",
   "execution_count": 1,
   "metadata": {},
   "outputs": [
    {
     "name": "stderr",
     "output_type": "stream",
     "text": [
      "/opt/anaconda3/lib/python3.8/site-packages/pandas/core/computation/expressions.py:20: UserWarning: Pandas requires version '2.7.3' or newer of 'numexpr' (version '2.7.1' currently installed).\n",
      "  from pandas.core.computation.check import NUMEXPR_INSTALLED\n"
     ]
    }
   ],
   "source": [
    "import pandas as pd\n",
    "import numpy as np\n",
    "import matplotlib.pyplot as plt\n",
    "import seaborn as sns"
   ]
  },
  {
   "cell_type": "code",
   "execution_count": 2,
   "metadata": {},
   "outputs": [],
   "source": [
    "data = pd.read_csv('working_data.csv', parse_dates=[0], infer_datetime_format= True)"
   ]
  },
  {
   "cell_type": "code",
   "execution_count": 3,
   "metadata": {},
   "outputs": [
    {
     "data": {
      "text/plain": [
       "5000000"
      ]
     },
     "execution_count": 3,
     "metadata": {},
     "output_type": "execute_result"
    }
   ],
   "source": [
    "len(data)"
   ]
  },
  {
   "cell_type": "code",
   "execution_count": 4,
   "metadata": {},
   "outputs": [],
   "source": [
    "cats = ['Monday', 'Tuesday', 'Wednesday', 'Thursday', 'Friday', 'Saturday', 'Sunday']\n",
    "\n",
    "data['day_name'] = pd.Categorical(data['day_name'], categories=cats, ordered=True)"
   ]
  },
  {
   "cell_type": "code",
   "execution_count": 5,
   "metadata": {},
   "outputs": [],
   "source": [
    "cats = ['January', 'February', 'March', 'April', 'May', 'June', \n",
    "       'July', 'August', 'September', 'October', 'November', 'December']\n",
    "\n",
    "data['month_name'] = pd.Categorical(data['month_name'], categories=cats, ordered=True)"
   ]
  },
  {
   "cell_type": "code",
   "execution_count": 6,
   "metadata": {},
   "outputs": [
    {
     "data": {
      "text/html": [
       "<div>\n",
       "<style scoped>\n",
       "    .dataframe tbody tr th:only-of-type {\n",
       "        vertical-align: middle;\n",
       "    }\n",
       "\n",
       "    .dataframe tbody tr th {\n",
       "        vertical-align: top;\n",
       "    }\n",
       "\n",
       "    .dataframe thead th {\n",
       "        text-align: right;\n",
       "    }\n",
       "</style>\n",
       "<table border=\"1\" class=\"dataframe\">\n",
       "  <thead>\n",
       "    <tr style=\"text-align: right;\">\n",
       "      <th></th>\n",
       "      <th>date</th>\n",
       "      <th>device_id</th>\n",
       "      <th>sessions</th>\n",
       "      <th>tts</th>\n",
       "      <th>tps</th>\n",
       "      <th>app_name</th>\n",
       "      <th>android</th>\n",
       "      <th>month</th>\n",
       "      <th>month_name</th>\n",
       "      <th>day</th>\n",
       "      <th>...</th>\n",
       "      <th>sessions_stand</th>\n",
       "      <th>tts_stand</th>\n",
       "      <th>tps_stand</th>\n",
       "      <th>app_number</th>\n",
       "      <th>android_num</th>\n",
       "      <th>sessions_rolling_avg</th>\n",
       "      <th>tts_rolling_avg</th>\n",
       "      <th>tps_rolling_avg</th>\n",
       "      <th>DAU</th>\n",
       "      <th>MAU</th>\n",
       "    </tr>\n",
       "  </thead>\n",
       "  <tbody>\n",
       "    <tr>\n",
       "      <th>0</th>\n",
       "      <td>2021-05-21</td>\n",
       "      <td>yb0YMYO4QAyxb9cSsO4iGBpV9VSbXa</td>\n",
       "      <td>1</td>\n",
       "      <td>392</td>\n",
       "      <td>392.00</td>\n",
       "      <td>instagram</td>\n",
       "      <td>unknown</td>\n",
       "      <td>3</td>\n",
       "      <td>May</td>\n",
       "      <td>4</td>\n",
       "      <td>...</td>\n",
       "      <td>-0.570834</td>\n",
       "      <td>-0.284362</td>\n",
       "      <td>0.740284</td>\n",
       "      <td>1</td>\n",
       "      <td>1</td>\n",
       "      <td>7.000000</td>\n",
       "      <td>4147.571429</td>\n",
       "      <td>467.777143</td>\n",
       "      <td>1674</td>\n",
       "      <td>47581</td>\n",
       "    </tr>\n",
       "    <tr>\n",
       "      <th>1</th>\n",
       "      <td>2021-09-26</td>\n",
       "      <td>JzG2JaSOoO7wvPmfmnocXKQdoI9r24</td>\n",
       "      <td>1</td>\n",
       "      <td>6</td>\n",
       "      <td>6.00</td>\n",
       "      <td>instagram</td>\n",
       "      <td>unknown</td>\n",
       "      <td>4</td>\n",
       "      <td>September</td>\n",
       "      <td>6</td>\n",
       "      <td>...</td>\n",
       "      <td>-0.570834</td>\n",
       "      <td>-1.872475</td>\n",
       "      <td>-1.909764</td>\n",
       "      <td>1</td>\n",
       "      <td>1</td>\n",
       "      <td>17.428571</td>\n",
       "      <td>1563.571429</td>\n",
       "      <td>82.915714</td>\n",
       "      <td>1709</td>\n",
       "      <td>47540</td>\n",
       "    </tr>\n",
       "    <tr>\n",
       "      <th>2</th>\n",
       "      <td>2021-11-23</td>\n",
       "      <td>baPdvtjbrRxztRCNnuaQodr6ZvwwFn</td>\n",
       "      <td>2</td>\n",
       "      <td>266</td>\n",
       "      <td>133.00</td>\n",
       "      <td>whatsapp</td>\n",
       "      <td>android</td>\n",
       "      <td>3</td>\n",
       "      <td>November</td>\n",
       "      <td>1</td>\n",
       "      <td>...</td>\n",
       "      <td>-0.510790</td>\n",
       "      <td>-0.455858</td>\n",
       "      <td>0.029497</td>\n",
       "      <td>6</td>\n",
       "      <td>0</td>\n",
       "      <td>14.285714</td>\n",
       "      <td>2219.428571</td>\n",
       "      <td>111.131429</td>\n",
       "      <td>1664</td>\n",
       "      <td>47176</td>\n",
       "    </tr>\n",
       "    <tr>\n",
       "      <th>3</th>\n",
       "      <td>2021-07-01</td>\n",
       "      <td>8zfpLx8jdEwirtXKTPlrGQUB0y58Rb</td>\n",
       "      <td>22</td>\n",
       "      <td>1987</td>\n",
       "      <td>90.32</td>\n",
       "      <td>pinterest</td>\n",
       "      <td>android</td>\n",
       "      <td>1</td>\n",
       "      <td>July</td>\n",
       "      <td>3</td>\n",
       "      <td>...</td>\n",
       "      <td>0.690078</td>\n",
       "      <td>0.496257</td>\n",
       "      <td>-0.220575</td>\n",
       "      <td>2</td>\n",
       "      <td>0</td>\n",
       "      <td>10.857143</td>\n",
       "      <td>1489.428571</td>\n",
       "      <td>144.034286</td>\n",
       "      <td>1687</td>\n",
       "      <td>47080</td>\n",
       "    </tr>\n",
       "    <tr>\n",
       "      <th>4</th>\n",
       "      <td>2021-03-31</td>\n",
       "      <td>PRJOvGZtFVtGlS4qcgXZaqKicB8g7Q</td>\n",
       "      <td>88</td>\n",
       "      <td>2561</td>\n",
       "      <td>29.10</td>\n",
       "      <td>facebook</td>\n",
       "      <td>unknown</td>\n",
       "      <td>7</td>\n",
       "      <td>March</td>\n",
       "      <td>2</td>\n",
       "      <td>...</td>\n",
       "      <td>4.652944</td>\n",
       "      <td>0.628054</td>\n",
       "      <td>-0.939398</td>\n",
       "      <td>0</td>\n",
       "      <td>1</td>\n",
       "      <td>25.428571</td>\n",
       "      <td>2276.571429</td>\n",
       "      <td>186.078571</td>\n",
       "      <td>1729</td>\n",
       "      <td>47672</td>\n",
       "    </tr>\n",
       "  </tbody>\n",
       "</table>\n",
       "<p>5 rows × 26 columns</p>\n",
       "</div>"
      ],
      "text/plain": [
       "        date                       device_id  sessions   tts     tps  \\\n",
       "0 2021-05-21  yb0YMYO4QAyxb9cSsO4iGBpV9VSbXa         1   392  392.00   \n",
       "1 2021-09-26  JzG2JaSOoO7wvPmfmnocXKQdoI9r24         1     6    6.00   \n",
       "2 2021-11-23  baPdvtjbrRxztRCNnuaQodr6ZvwwFn         2   266  133.00   \n",
       "3 2021-07-01  8zfpLx8jdEwirtXKTPlrGQUB0y58Rb        22  1987   90.32   \n",
       "4 2021-03-31  PRJOvGZtFVtGlS4qcgXZaqKicB8g7Q        88  2561   29.10   \n",
       "\n",
       "    app_name  android  month month_name  day  ... sessions_stand  tts_stand  \\\n",
       "0  instagram  unknown      3        May    4  ...      -0.570834  -0.284362   \n",
       "1  instagram  unknown      4  September    6  ...      -0.570834  -1.872475   \n",
       "2   whatsapp  android      3   November    1  ...      -0.510790  -0.455858   \n",
       "3  pinterest  android      1       July    3  ...       0.690078   0.496257   \n",
       "4   facebook  unknown      7      March    2  ...       4.652944   0.628054   \n",
       "\n",
       "   tps_stand  app_number  android_num  sessions_rolling_avg  tts_rolling_avg  \\\n",
       "0   0.740284           1            1              7.000000      4147.571429   \n",
       "1  -1.909764           1            1             17.428571      1563.571429   \n",
       "2   0.029497           6            0             14.285714      2219.428571   \n",
       "3  -0.220575           2            0             10.857143      1489.428571   \n",
       "4  -0.939398           0            1             25.428571      2276.571429   \n",
       "\n",
       "   tps_rolling_avg   DAU    MAU  \n",
       "0       467.777143  1674  47581  \n",
       "1        82.915714  1709  47540  \n",
       "2       111.131429  1664  47176  \n",
       "3       144.034286  1687  47080  \n",
       "4       186.078571  1729  47672  \n",
       "\n",
       "[5 rows x 26 columns]"
      ]
     },
     "execution_count": 6,
     "metadata": {},
     "output_type": "execute_result"
    }
   ],
   "source": [
    "data.head()"
   ]
  },
  {
   "cell_type": "markdown",
   "metadata": {},
   "source": [
    "## Some Regressions"
   ]
  },
  {
   "cell_type": "code",
   "execution_count": 7,
   "metadata": {},
   "outputs": [],
   "source": [
    "import statsmodels.api as sm"
   ]
  },
  {
   "cell_type": "code",
   "execution_count": 8,
   "metadata": {},
   "outputs": [],
   "source": [
    "def run_regression_descrip(X, y):\n",
    "    model = sm.OLS(y, X).fit()\n",
    "    print(model.summary())\n",
    "    return"
   ]
  },
  {
   "cell_type": "code",
   "execution_count": 9,
   "metadata": {},
   "outputs": [
    {
     "name": "stdout",
     "output_type": "stream",
     "text": [
      "                                 OLS Regression Results                                \n",
      "=======================================================================================\n",
      "Dep. Variable:               sessions   R-squared (uncentered):                   0.285\n",
      "Model:                            OLS   Adj. R-squared (uncentered):              0.285\n",
      "Method:                 Least Squares   F-statistic:                          3.317e+05\n",
      "Date:                Thu, 23 Mar 2023   Prob (F-statistic):                        0.00\n",
      "Time:                        12:26:32   Log-Likelihood:                     -2.1158e+07\n",
      "No. Observations:             5000000   AIC:                                  4.232e+07\n",
      "Df Residuals:                 4999994   BIC:                                  4.232e+07\n",
      "Df Model:                           6                                                  \n",
      "Covariance Type:            nonrobust                                                  \n",
      "===============================================================================\n",
      "                  coef    std err          t      P>|t|      [0.025      0.975]\n",
      "-------------------------------------------------------------------------------\n",
      "month           0.0010      0.002      0.429      0.668      -0.004       0.006\n",
      "day             0.0027      0.004      0.713      0.476      -0.005       0.010\n",
      "app_number      0.0016      0.003      0.495      0.620      -0.005       0.008\n",
      "android_num     0.0165      0.015      1.111      0.267      -0.013       0.046\n",
      "DAU             0.0002      0.000      1.269      0.205      -0.000       0.001\n",
      "MAU             0.0002   6.59e-06     32.359      0.000       0.000       0.000\n",
      "==============================================================================\n",
      "Omnibus:                  4741434.846   Durbin-Watson:                   1.999\n",
      "Prob(Omnibus):                  0.000   Jarque-Bera (JB):        301816274.229\n",
      "Skew:                           4.513   Prob(JB):                         0.00\n",
      "Kurtosis:                      39.976   Cond. No.                     9.47e+04\n",
      "==============================================================================\n",
      "\n",
      "Notes:\n",
      "[1] R² is computed without centering (uncentered) since the model does not contain a constant.\n",
      "[2] Standard Errors assume that the covariance matrix of the errors is correctly specified.\n",
      "[3] The condition number is large, 9.47e+04. This might indicate that there are\n",
      "strong multicollinearity or other numerical problems.\n"
     ]
    }
   ],
   "source": [
    "X = data[['month', 'day', 'app_number', 'android_num', 'DAU', 'MAU']]\n",
    "y = data['sessions']\n",
    "\n",
    "run_regression_descrip(X,y)"
   ]
  },
  {
   "cell_type": "code",
   "execution_count": 10,
   "metadata": {},
   "outputs": [
    {
     "name": "stdout",
     "output_type": "stream",
     "text": [
      "                                 OLS Regression Results                                \n",
      "=======================================================================================\n",
      "Dep. Variable:         sessions_stand   R-squared (uncentered):                   0.000\n",
      "Model:                            OLS   Adj. R-squared (uncentered):             -0.000\n",
      "Method:                 Least Squares   F-statistic:                             0.1830\n",
      "Date:                Thu, 23 Mar 2023   Prob (F-statistic):                       0.969\n",
      "Time:                        12:26:37   Log-Likelihood:                     -7.0947e+06\n",
      "No. Observations:             5000000   AIC:                                  1.419e+07\n",
      "Df Residuals:                 4999995   BIC:                                  1.419e+07\n",
      "Df Model:                           5                                                  \n",
      "Covariance Type:            nonrobust                                                  \n",
      "==============================================================================\n",
      "                 coef    std err          t      P>|t|      [0.025      0.975]\n",
      "------------------------------------------------------------------------------\n",
      "month      -5.029e-06      0.000     -0.036      0.972      -0.000       0.000\n",
      "day            0.0002      0.000      0.701      0.483      -0.000       0.001\n",
      "app_number  5.676e-05      0.000      0.291      0.771      -0.000       0.000\n",
      "DAU         6.201e-06    1.1e-05      0.565      0.572   -1.53e-05    2.77e-05\n",
      "MAU        -2.369e-07   3.95e-07     -0.599      0.549   -1.01e-06    5.38e-07\n",
      "==============================================================================\n",
      "Omnibus:                  4741461.670   Durbin-Watson:                   1.999\n",
      "Prob(Omnibus):                  0.000   Jarque-Bera (JB):        301821806.573\n",
      "Skew:                           4.513   Prob(JB):                         0.00\n",
      "Kurtosis:                      39.977   Cond. No.                     2.37e+04\n",
      "==============================================================================\n",
      "\n",
      "Notes:\n",
      "[1] R² is computed without centering (uncentered) since the model does not contain a constant.\n",
      "[2] Standard Errors assume that the covariance matrix of the errors is correctly specified.\n",
      "[3] The condition number is large, 2.37e+04. This might indicate that there are\n",
      "strong multicollinearity or other numerical problems.\n"
     ]
    }
   ],
   "source": [
    "X = data[['month', 'day', 'app_number', 'DAU', 'MAU']]\n",
    "y = data['sessions_stand']\n",
    "\n",
    "run_regression_descrip(X,y)"
   ]
  },
  {
   "cell_type": "code",
   "execution_count": 11,
   "metadata": {},
   "outputs": [
    {
     "name": "stdout",
     "output_type": "stream",
     "text": [
      "                                 OLS Regression Results                                \n",
      "=======================================================================================\n",
      "Dep. Variable:                    tts   R-squared (uncentered):                   0.205\n",
      "Model:                            OLS   Adj. R-squared (uncentered):              0.205\n",
      "Method:                 Least Squares   F-statistic:                          2.581e+05\n",
      "Date:                Thu, 23 Mar 2023   Prob (F-statistic):                        0.00\n",
      "Time:                        12:26:41   Log-Likelihood:                     -5.0695e+07\n",
      "No. Observations:             5000000   AIC:                                  1.014e+08\n",
      "Df Residuals:                 4999995   BIC:                                  1.014e+08\n",
      "Df Model:                           5                                                  \n",
      "Covariance Type:            nonrobust                                                  \n",
      "==============================================================================\n",
      "                 coef    std err          t      P>|t|      [0.025      0.975]\n",
      "------------------------------------------------------------------------------\n",
      "month          1.6471      0.865      1.903      0.057      -0.049       3.343\n",
      "day            0.7875      1.371      0.574      0.566      -1.900       3.475\n",
      "app_number    -1.7437      1.195     -1.460      0.144      -4.085       0.598\n",
      "DAU            0.0412      0.067      0.613      0.540      -0.090       0.173\n",
      "MAU            0.0642      0.002     26.493      0.000       0.059       0.069\n",
      "==============================================================================\n",
      "Omnibus:                  4615898.175   Durbin-Watson:                   2.000\n",
      "Prob(Omnibus):                  0.000   Jarque-Bera (JB):        204506475.813\n",
      "Skew:                           4.469   Prob(JB):                         0.00\n",
      "Kurtosis:                      33.029   Cond. No.                     2.37e+04\n",
      "==============================================================================\n",
      "\n",
      "Notes:\n",
      "[1] R² is computed without centering (uncentered) since the model does not contain a constant.\n",
      "[2] Standard Errors assume that the covariance matrix of the errors is correctly specified.\n",
      "[3] The condition number is large, 2.37e+04. This might indicate that there are\n",
      "strong multicollinearity or other numerical problems.\n"
     ]
    }
   ],
   "source": [
    "X = data[['month', 'day', 'app_number', 'DAU', 'MAU']]\n",
    "y = data['tts']\n",
    "\n",
    "run_regression_descrip(X,y)"
   ]
  },
  {
   "cell_type": "code",
   "execution_count": 12,
   "metadata": {},
   "outputs": [
    {
     "name": "stdout",
     "output_type": "stream",
     "text": [
      "                                 OLS Regression Results                                \n",
      "=======================================================================================\n",
      "Dep. Variable:              tts_stand   R-squared (uncentered):                   0.000\n",
      "Model:                            OLS   Adj. R-squared (uncentered):             -0.000\n",
      "Method:                 Least Squares   F-statistic:                             0.8150\n",
      "Date:                Thu, 23 Mar 2023   Prob (F-statistic):                       0.539\n",
      "Time:                        12:26:46   Log-Likelihood:                     -7.0947e+06\n",
      "No. Observations:             5000000   AIC:                                  1.419e+07\n",
      "Df Residuals:                 4999995   BIC:                                  1.419e+07\n",
      "Df Model:                           5                                                  \n",
      "Covariance Type:            nonrobust                                                  \n",
      "==============================================================================\n",
      "                 coef    std err          t      P>|t|      [0.025      0.975]\n",
      "------------------------------------------------------------------------------\n",
      "month       5.497e-05      0.000      0.389      0.697      -0.000       0.000\n",
      "day            0.0003      0.000      1.438      0.150      -0.000       0.001\n",
      "app_number    -0.0001      0.000     -0.729      0.466      -0.001       0.000\n",
      "DAU        -1.292e-05    1.1e-05     -1.178      0.239   -3.44e-05    8.58e-06\n",
      "MAU         4.484e-07   3.95e-07      1.134      0.257   -3.27e-07    1.22e-06\n",
      "==============================================================================\n",
      "Omnibus:                   315006.846   Durbin-Watson:                   1.999\n",
      "Prob(Omnibus):                  0.000   Jarque-Bera (JB):           114468.055\n",
      "Skew:                          -0.046   Prob(JB):                         0.00\n",
      "Kurtosis:                       2.264   Cond. No.                     2.37e+04\n",
      "==============================================================================\n",
      "\n",
      "Notes:\n",
      "[1] R² is computed without centering (uncentered) since the model does not contain a constant.\n",
      "[2] Standard Errors assume that the covariance matrix of the errors is correctly specified.\n",
      "[3] The condition number is large, 2.37e+04. This might indicate that there are\n",
      "strong multicollinearity or other numerical problems.\n"
     ]
    }
   ],
   "source": [
    "X = data[['month', 'day', 'app_number', 'DAU', 'MAU']]\n",
    "y = data['tts_stand']\n",
    "\n",
    "run_regression_descrip(X,y)"
   ]
  },
  {
   "cell_type": "code",
   "execution_count": 13,
   "metadata": {},
   "outputs": [
    {
     "name": "stdout",
     "output_type": "stream",
     "text": [
      "                                 OLS Regression Results                                \n",
      "=======================================================================================\n",
      "Dep. Variable:              tps_stand   R-squared (uncentered):                   0.000\n",
      "Model:                            OLS   Adj. R-squared (uncentered):              0.000\n",
      "Method:                 Least Squares   F-statistic:                              1.163\n",
      "Date:                Thu, 23 Mar 2023   Prob (F-statistic):                       0.324\n",
      "Time:                        12:26:51   Log-Likelihood:                     -7.0947e+06\n",
      "No. Observations:             5000000   AIC:                                  1.419e+07\n",
      "Df Residuals:                 4999995   BIC:                                  1.419e+07\n",
      "Df Model:                           5                                                  \n",
      "Covariance Type:            nonrobust                                                  \n",
      "==============================================================================\n",
      "                 coef    std err          t      P>|t|      [0.025      0.975]\n",
      "------------------------------------------------------------------------------\n",
      "month       7.323e-05      0.000      0.518      0.604      -0.000       0.000\n",
      "day            0.0004      0.000      1.703      0.089   -5.76e-05       0.001\n",
      "app_number    -0.0001      0.000     -0.712      0.477      -0.001       0.000\n",
      "DAU        -1.643e-05    1.1e-05     -1.498      0.134   -3.79e-05    5.07e-06\n",
      "MAU         5.685e-07   3.95e-07      1.438      0.151   -2.07e-07    1.34e-06\n",
      "==============================================================================\n",
      "Omnibus:                      728.547   Durbin-Watson:                   1.999\n",
      "Prob(Omnibus):                  0.000   Jarque-Bera (JB):              687.240\n",
      "Skew:                          -0.001   Prob(JB):                    5.86e-150\n",
      "Kurtosis:                       2.943   Cond. No.                     2.37e+04\n",
      "==============================================================================\n",
      "\n",
      "Notes:\n",
      "[1] R² is computed without centering (uncentered) since the model does not contain a constant.\n",
      "[2] Standard Errors assume that the covariance matrix of the errors is correctly specified.\n",
      "[3] The condition number is large, 2.37e+04. This might indicate that there are\n",
      "strong multicollinearity or other numerical problems.\n"
     ]
    }
   ],
   "source": [
    "X = data[['month', 'day', 'app_number', 'DAU', 'MAU']]\n",
    "y = data['tps_stand']\n",
    "\n",
    "run_regression_descrip(X,y)"
   ]
  },
  {
   "cell_type": "markdown",
   "metadata": {},
   "source": [
    "## Alternative Regression Ideas"
   ]
  },
  {
   "cell_type": "code",
   "execution_count": 14,
   "metadata": {},
   "outputs": [],
   "source": [
    "from sklearn.model_selection import train_test_split\n",
    "from sklearn.linear_model import LinearRegression\n",
    "from sklearn.metrics import mean_absolute_error, mean_squared_error, r2_score"
   ]
  },
  {
   "cell_type": "code",
   "execution_count": 15,
   "metadata": {},
   "outputs": [],
   "source": [
    "def run_regression_alt(X, y):\n",
    "    X_train, X_test, y_train, y_test = train_test_split(X, y, test_size=0.2, random_state=42)\n",
    "\n",
    "    model = LinearRegression()\n",
    "    model.fit(X_train, y_train)\n",
    "    \n",
    "    print('Test Data: \\n', X_test[500:501])\n",
    "    print('\\nPrediction Value: \\n', model.predict(X_test[500:501]))\n",
    "    print('\\nTrain Data Value: \\n', y_train[500:501].values)\n",
    "    \n",
    "    y_hat = model.predict(X_test)\n",
    "    \n",
    "    print(\"\\nMAE: \", mean_absolute_error(y_test, y_hat))\n",
    "    print(\"MSE: \", mean_squared_error(y_test, y_hat))\n",
    "    print(\"R2: \", r2_score(y_test, y_hat))\n",
    "    return\n"
   ]
  },
  {
   "cell_type": "code",
   "execution_count": 16,
   "metadata": {},
   "outputs": [
    {
     "name": "stdout",
     "output_type": "stream",
     "text": [
      "Test Data: \n",
      "        DAU    MAU\n",
      "9328  1688  47115\n",
      "\n",
      "Prediction Value: \n",
      " [0.0001376]\n",
      "\n",
      "Train Data Value: \n",
      " [-0.15052974]\n",
      "\n",
      "MAE:  0.6036868228344251\n",
      "MSE:  0.9988864967859375\n",
      "R2:  -5.204961346372272e-07\n"
     ]
    }
   ],
   "source": [
    "X = data[['DAU', 'MAU']]\n",
    "y = data['sessions_stand']\n",
    "\n",
    "run_regression_alt(X,y)"
   ]
  },
  {
   "cell_type": "code",
   "execution_count": 17,
   "metadata": {},
   "outputs": [
    {
     "name": "stdout",
     "output_type": "stream",
     "text": [
      "Test Data: \n",
      "        DAU    MAU\n",
      "9328  1688  47115\n",
      "\n",
      "Prediction Value: \n",
      " [0.0005905]\n",
      "\n",
      "Train Data Value: \n",
      " [0.94417821]\n",
      "\n",
      "MAE:  0.834718400194679\n",
      "MSE:  1.000242666678621\n",
      "R2:  -1.8415138309801904e-06\n"
     ]
    }
   ],
   "source": [
    "X = data[['DAU', 'MAU']]\n",
    "y = data['tts_stand']\n",
    "\n",
    "run_regression_alt(X,y)"
   ]
  },
  {
   "cell_type": "code",
   "execution_count": 18,
   "metadata": {},
   "outputs": [
    {
     "name": "stdout",
     "output_type": "stream",
     "text": [
      "Test Data: \n",
      "        DAU    MAU\n",
      "9328  1688  47115\n",
      "\n",
      "Prediction Value: \n",
      " [0.00070363]\n",
      "\n",
      "Train Data Value: \n",
      " [0.99808244]\n",
      "\n",
      "MAE:  0.8011874860942807\n",
      "MSE:  1.000731475195136\n",
      "R2:  -2.1491134654105792e-06\n"
     ]
    }
   ],
   "source": [
    "X = data[['DAU', 'MAU']]\n",
    "y = data['tps_stand']\n",
    "\n",
    "run_regression_alt(X,y)"
   ]
  },
  {
   "cell_type": "code",
   "execution_count": null,
   "metadata": {},
   "outputs": [],
   "source": []
  },
  {
   "cell_type": "code",
   "execution_count": null,
   "metadata": {},
   "outputs": [],
   "source": []
  }
 ],
 "metadata": {
  "kernelspec": {
   "display_name": "Python 3",
   "language": "python",
   "name": "python3"
  },
  "language_info": {
   "codemirror_mode": {
    "name": "ipython",
    "version": 3
   },
   "file_extension": ".py",
   "mimetype": "text/x-python",
   "name": "python",
   "nbconvert_exporter": "python",
   "pygments_lexer": "ipython3",
   "version": "3.8.5"
  }
 },
 "nbformat": 4,
 "nbformat_minor": 4
}
