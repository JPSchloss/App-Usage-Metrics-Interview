{
 "cells": [
  {
   "cell_type": "markdown",
   "metadata": {},
   "source": [
    "# Tasting Zip File"
   ]
  },
  {
   "cell_type": "code",
   "execution_count": 1,
   "metadata": {},
   "outputs": [
    {
     "name": "stdout",
     "output_type": "stream",
     "text": [
      "Filename: sample_data.csv\n",
      "Unzipped size: 0.675187813 GB\n",
      "Compressed size: 0.327513196 GB\n"
     ]
    }
   ],
   "source": [
    "import zipfile\n",
    "with zipfile.ZipFile('sample_data.zip', mode='r') as taste:\n",
    "    for info in taste.infolist():\n",
    "        print(f'Filename: {info.filename}')\n",
    "        print(f'Unzipped size: {info.file_size/ 1000000000} GB')\n",
    "        print(f'Compressed size: {info.compress_size/ 1000000000} GB')"
   ]
  },
  {
   "cell_type": "markdown",
   "metadata": {},
   "source": [
    "# Exploring File"
   ]
  },
  {
   "cell_type": "code",
   "execution_count": 2,
   "metadata": {},
   "outputs": [
    {
     "name": "stderr",
     "output_type": "stream",
     "text": [
      "/opt/anaconda3/lib/python3.8/site-packages/pandas/core/computation/expressions.py:20: UserWarning: Pandas requires version '2.7.3' or newer of 'numexpr' (version '2.7.1' currently installed).\n",
      "  from pandas.core.computation.check import NUMEXPR_INSTALLED\n"
     ]
    }
   ],
   "source": [
    "import pandas as pd\n",
    "import numpy as np\n",
    "import seaborn as sns\n",
    "import matplotlib.pyplot as plt\n",
    "import random\n",
    "random.seed(42)"
   ]
  },
  {
   "cell_type": "code",
   "execution_count": 3,
   "metadata": {},
   "outputs": [
    {
     "name": "stdout",
     "output_type": "stream",
     "text": [
      "Number of Rows in File:  10000001\n",
      "Length of Dataset:  5000000\n"
     ]
    }
   ],
   "source": [
    "filename = 'sample_data.csv'\n",
    "\n",
    "lines = sum(1 for i in open(filename))\n",
    "print('Number of Rows in File: ', lines)\n",
    "\n",
    "skip_idx = random.sample(range(1, lines), lines - 5000001)\n",
    "\n",
    "data = pd.read_csv(filename, skiprows=skip_idx)\n",
    "print('Length of Dataset: ', len(data))"
   ]
  },
  {
   "cell_type": "code",
   "execution_count": 4,
   "metadata": {},
   "outputs": [
    {
     "name": "stdout",
     "output_type": "stream",
     "text": [
      "<class 'pandas.core.frame.DataFrame'>\n",
      "RangeIndex: 5000000 entries, 0 to 4999999\n",
      "Data columns (total 7 columns):\n",
      " #   Column     Dtype \n",
      "---  ------     ----- \n",
      " 0   date       object\n",
      " 1   device_id  object\n",
      " 2   sessions   int64 \n",
      " 3   tts        int64 \n",
      " 4   month      int64 \n",
      " 5   app_name   object\n",
      " 6   android    object\n",
      "dtypes: int64(3), object(4)\n",
      "memory usage: 267.0+ MB\n"
     ]
    }
   ],
   "source": [
    "data.info(memory_usage = True)"
   ]
  },
  {
   "cell_type": "code",
   "execution_count": 5,
   "metadata": {},
   "outputs": [
    {
     "data": {
      "text/html": [
       "<div>\n",
       "<style scoped>\n",
       "    .dataframe tbody tr th:only-of-type {\n",
       "        vertical-align: middle;\n",
       "    }\n",
       "\n",
       "    .dataframe tbody tr th {\n",
       "        vertical-align: top;\n",
       "    }\n",
       "\n",
       "    .dataframe thead th {\n",
       "        text-align: right;\n",
       "    }\n",
       "</style>\n",
       "<table border=\"1\" class=\"dataframe\">\n",
       "  <thead>\n",
       "    <tr style=\"text-align: right;\">\n",
       "      <th></th>\n",
       "      <th>date</th>\n",
       "      <th>device_id</th>\n",
       "      <th>sessions</th>\n",
       "      <th>tts</th>\n",
       "      <th>month</th>\n",
       "      <th>app_name</th>\n",
       "      <th>android</th>\n",
       "    </tr>\n",
       "  </thead>\n",
       "  <tbody>\n",
       "    <tr>\n",
       "      <th>0</th>\n",
       "      <td>2021-05-21</td>\n",
       "      <td>yb0YMYO4QAyxb9cSsO4iGBpV9VSbXa</td>\n",
       "      <td>1</td>\n",
       "      <td>392</td>\n",
       "      <td>3</td>\n",
       "      <td>instagram</td>\n",
       "      <td>unknown</td>\n",
       "    </tr>\n",
       "    <tr>\n",
       "      <th>1</th>\n",
       "      <td>2021-09-26</td>\n",
       "      <td>JzG2JaSOoO7wvPmfmnocXKQdoI9r24</td>\n",
       "      <td>1</td>\n",
       "      <td>6</td>\n",
       "      <td>4</td>\n",
       "      <td>instagram</td>\n",
       "      <td>unknown</td>\n",
       "    </tr>\n",
       "    <tr>\n",
       "      <th>2</th>\n",
       "      <td>2021-11-23</td>\n",
       "      <td>baPdvtjbrRxztRCNnuaQodr6ZvwwFn</td>\n",
       "      <td>2</td>\n",
       "      <td>266</td>\n",
       "      <td>3</td>\n",
       "      <td>whatsapp</td>\n",
       "      <td>android</td>\n",
       "    </tr>\n",
       "    <tr>\n",
       "      <th>3</th>\n",
       "      <td>2021-07-01</td>\n",
       "      <td>8zfpLx8jdEwirtXKTPlrGQUB0y58Rb</td>\n",
       "      <td>22</td>\n",
       "      <td>1987</td>\n",
       "      <td>1</td>\n",
       "      <td>pinterest</td>\n",
       "      <td>android</td>\n",
       "    </tr>\n",
       "    <tr>\n",
       "      <th>4</th>\n",
       "      <td>2021-03-31</td>\n",
       "      <td>PRJOvGZtFVtGlS4qcgXZaqKicB8g7Q</td>\n",
       "      <td>88</td>\n",
       "      <td>2561</td>\n",
       "      <td>7</td>\n",
       "      <td>facebook</td>\n",
       "      <td>unknown</td>\n",
       "    </tr>\n",
       "  </tbody>\n",
       "</table>\n",
       "</div>"
      ],
      "text/plain": [
       "         date                       device_id  sessions   tts  month  \\\n",
       "0  2021-05-21  yb0YMYO4QAyxb9cSsO4iGBpV9VSbXa         1   392      3   \n",
       "1  2021-09-26  JzG2JaSOoO7wvPmfmnocXKQdoI9r24         1     6      4   \n",
       "2  2021-11-23  baPdvtjbrRxztRCNnuaQodr6ZvwwFn         2   266      3   \n",
       "3  2021-07-01  8zfpLx8jdEwirtXKTPlrGQUB0y58Rb        22  1987      1   \n",
       "4  2021-03-31  PRJOvGZtFVtGlS4qcgXZaqKicB8g7Q        88  2561      7   \n",
       "\n",
       "    app_name  android  \n",
       "0  instagram  unknown  \n",
       "1  instagram  unknown  \n",
       "2   whatsapp  android  \n",
       "3  pinterest  android  \n",
       "4   facebook  unknown  "
      ]
     },
     "execution_count": 5,
     "metadata": {},
     "output_type": "execute_result"
    }
   ],
   "source": [
    "data.head()"
   ]
  },
  {
   "cell_type": "code",
   "execution_count": 6,
   "metadata": {},
   "outputs": [
    {
     "data": {
      "text/plain": [
       "array([ 3,  4,  1,  7,  2,  5, 10,  6,  9,  8, 11])"
      ]
     },
     "execution_count": 6,
     "metadata": {},
     "output_type": "execute_result"
    }
   ],
   "source": [
    "data['month'].unique()"
   ]
  },
  {
   "cell_type": "markdown",
   "metadata": {},
   "source": [
    "# Basic Exploration"
   ]
  },
  {
   "cell_type": "code",
   "execution_count": 7,
   "metadata": {},
   "outputs": [
    {
     "data": {
      "text/html": [
       "<div>\n",
       "<style scoped>\n",
       "    .dataframe tbody tr th:only-of-type {\n",
       "        vertical-align: middle;\n",
       "    }\n",
       "\n",
       "    .dataframe tbody tr th {\n",
       "        vertical-align: top;\n",
       "    }\n",
       "\n",
       "    .dataframe thead th {\n",
       "        text-align: right;\n",
       "    }\n",
       "</style>\n",
       "<table border=\"1\" class=\"dataframe\">\n",
       "  <thead>\n",
       "    <tr style=\"text-align: right;\">\n",
       "      <th></th>\n",
       "      <th>sessions</th>\n",
       "      <th>tts</th>\n",
       "      <th>month</th>\n",
       "    </tr>\n",
       "  </thead>\n",
       "  <tbody>\n",
       "    <tr>\n",
       "      <th>count</th>\n",
       "      <td>5.000000e+06</td>\n",
       "      <td>5.000000e+06</td>\n",
       "      <td>5.000000e+06</td>\n",
       "    </tr>\n",
       "    <tr>\n",
       "      <th>mean</th>\n",
       "      <td>1.050701e+01</td>\n",
       "      <td>3.111292e+03</td>\n",
       "      <td>5.998186e+00</td>\n",
       "    </tr>\n",
       "    <tr>\n",
       "      <th>std</th>\n",
       "      <td>1.665462e+01</td>\n",
       "      <td>6.123992e+03</td>\n",
       "      <td>3.162985e+00</td>\n",
       "    </tr>\n",
       "    <tr>\n",
       "      <th>min</th>\n",
       "      <td>1.000000e+00</td>\n",
       "      <td>2.000000e+00</td>\n",
       "      <td>1.000000e+00</td>\n",
       "    </tr>\n",
       "    <tr>\n",
       "      <th>25%</th>\n",
       "      <td>2.000000e+00</td>\n",
       "      <td>1.270000e+02</td>\n",
       "      <td>3.000000e+00</td>\n",
       "    </tr>\n",
       "    <tr>\n",
       "      <th>50%</th>\n",
       "      <td>4.000000e+00</td>\n",
       "      <td>7.800000e+02</td>\n",
       "      <td>6.000000e+00</td>\n",
       "    </tr>\n",
       "    <tr>\n",
       "      <th>75%</th>\n",
       "      <td>1.200000e+01</td>\n",
       "      <td>3.327000e+03</td>\n",
       "      <td>9.000000e+00</td>\n",
       "    </tr>\n",
       "    <tr>\n",
       "      <th>max</th>\n",
       "      <td>6.900000e+02</td>\n",
       "      <td>1.673920e+05</td>\n",
       "      <td>1.100000e+01</td>\n",
       "    </tr>\n",
       "  </tbody>\n",
       "</table>\n",
       "</div>"
      ],
      "text/plain": [
       "           sessions           tts         month\n",
       "count  5.000000e+06  5.000000e+06  5.000000e+06\n",
       "mean   1.050701e+01  3.111292e+03  5.998186e+00\n",
       "std    1.665462e+01  6.123992e+03  3.162985e+00\n",
       "min    1.000000e+00  2.000000e+00  1.000000e+00\n",
       "25%    2.000000e+00  1.270000e+02  3.000000e+00\n",
       "50%    4.000000e+00  7.800000e+02  6.000000e+00\n",
       "75%    1.200000e+01  3.327000e+03  9.000000e+00\n",
       "max    6.900000e+02  1.673920e+05  1.100000e+01"
      ]
     },
     "execution_count": 7,
     "metadata": {},
     "output_type": "execute_result"
    }
   ],
   "source": [
    "data.describe()"
   ]
  },
  {
   "cell_type": "code",
   "execution_count": 8,
   "metadata": {},
   "outputs": [
    {
     "name": "stdout",
     "output_type": "stream",
     "text": [
      "Number of Unique Devices: 150000\n"
     ]
    }
   ],
   "source": [
    "print('Number of Unique Devices:', data.device_id.nunique())"
   ]
  },
  {
   "cell_type": "code",
   "execution_count": 9,
   "metadata": {},
   "outputs": [
    {
     "name": "stdout",
     "output_type": "stream",
     "text": [
      "Number of Unique Apps: 8\n"
     ]
    }
   ],
   "source": [
    "print('Number of Unique Apps:', data.app_name.nunique())"
   ]
  },
  {
   "cell_type": "code",
   "execution_count": 10,
   "metadata": {},
   "outputs": [
    {
     "name": "stdout",
     "output_type": "stream",
     "text": [
      "Total Dates in Dataset: 365\n"
     ]
    }
   ],
   "source": [
    "print('Total Dates in Dataset:', data.date.nunique())"
   ]
  },
  {
   "cell_type": "code",
   "execution_count": 11,
   "metadata": {},
   "outputs": [
    {
     "data": {
      "text/html": [
       "<div>\n",
       "<style scoped>\n",
       "    .dataframe tbody tr th:only-of-type {\n",
       "        vertical-align: middle;\n",
       "    }\n",
       "\n",
       "    .dataframe tbody tr th {\n",
       "        vertical-align: top;\n",
       "    }\n",
       "\n",
       "    .dataframe thead th {\n",
       "        text-align: right;\n",
       "    }\n",
       "</style>\n",
       "<table border=\"1\" class=\"dataframe\">\n",
       "  <thead>\n",
       "    <tr style=\"text-align: right;\">\n",
       "      <th></th>\n",
       "      <th>index</th>\n",
       "      <th>0</th>\n",
       "    </tr>\n",
       "  </thead>\n",
       "  <tbody>\n",
       "    <tr>\n",
       "      <th>0</th>\n",
       "      <td>date</td>\n",
       "      <td>0</td>\n",
       "    </tr>\n",
       "    <tr>\n",
       "      <th>1</th>\n",
       "      <td>device_id</td>\n",
       "      <td>0</td>\n",
       "    </tr>\n",
       "    <tr>\n",
       "      <th>2</th>\n",
       "      <td>sessions</td>\n",
       "      <td>0</td>\n",
       "    </tr>\n",
       "    <tr>\n",
       "      <th>3</th>\n",
       "      <td>tts</td>\n",
       "      <td>0</td>\n",
       "    </tr>\n",
       "    <tr>\n",
       "      <th>4</th>\n",
       "      <td>month</td>\n",
       "      <td>0</td>\n",
       "    </tr>\n",
       "    <tr>\n",
       "      <th>5</th>\n",
       "      <td>app_name</td>\n",
       "      <td>0</td>\n",
       "    </tr>\n",
       "    <tr>\n",
       "      <th>6</th>\n",
       "      <td>android</td>\n",
       "      <td>0</td>\n",
       "    </tr>\n",
       "  </tbody>\n",
       "</table>\n",
       "</div>"
      ],
      "text/plain": [
       "       index  0\n",
       "0       date  0\n",
       "1  device_id  0\n",
       "2   sessions  0\n",
       "3        tts  0\n",
       "4      month  0\n",
       "5   app_name  0\n",
       "6    android  0"
      ]
     },
     "execution_count": 11,
     "metadata": {},
     "output_type": "execute_result"
    }
   ],
   "source": [
    "data.isnull().sum().reset_index()"
   ]
  },
  {
   "cell_type": "markdown",
   "metadata": {},
   "source": [
    "# Feature Engineering"
   ]
  },
  {
   "cell_type": "markdown",
   "metadata": {},
   "source": [
    "### Cleaning Up App Names"
   ]
  },
  {
   "cell_type": "code",
   "execution_count": 12,
   "metadata": {},
   "outputs": [
    {
     "data": {
      "text/plain": [
       "array(['instagram', 'whatsapp', 'pinterest', 'facebook', 'twitter',\n",
       "       'tiktok', 'snapchat', 'youtube'], dtype=object)"
      ]
     },
     "execution_count": 12,
     "metadata": {},
     "output_type": "execute_result"
    }
   ],
   "source": [
    "data.app_name.unique()"
   ]
  },
  {
   "cell_type": "markdown",
   "metadata": {},
   "source": [
    "### Extracting Days of The Week"
   ]
  },
  {
   "cell_type": "code",
   "execution_count": 13,
   "metadata": {},
   "outputs": [],
   "source": [
    "data['date'] = pd.to_datetime(data['date'])\n",
    "data['day'] = data['date'].dt.dayofweek\n",
    "data['day_name'] = data['date'].dt.day_name() "
   ]
  },
  {
   "cell_type": "code",
   "execution_count": 14,
   "metadata": {},
   "outputs": [],
   "source": [
    "cats = ['Monday', 'Tuesday', 'Wednesday', 'Thursday', 'Friday', 'Saturday', 'Sunday']\n",
    "\n",
    "data['day_name'] = pd.Categorical(data['day_name'], categories=cats, ordered=True)"
   ]
  },
  {
   "cell_type": "markdown",
   "metadata": {},
   "source": [
    "### Extracting Month"
   ]
  },
  {
   "cell_type": "code",
   "execution_count": 15,
   "metadata": {},
   "outputs": [],
   "source": [
    "data['month_name'] = data['date'].dt.month_name()"
   ]
  },
  {
   "cell_type": "code",
   "execution_count": 16,
   "metadata": {},
   "outputs": [],
   "source": [
    "cats = ['January', 'February', 'March', 'April', 'May', 'June', \n",
    "       'July', 'August', 'September', 'October', 'November', 'December']\n",
    "\n",
    "data['month_name'] = pd.Categorical(data['month_name'], categories=cats, ordered=True)"
   ]
  },
  {
   "cell_type": "code",
   "execution_count": 17,
   "metadata": {},
   "outputs": [
    {
     "data": {
      "text/html": [
       "<div>\n",
       "<style scoped>\n",
       "    .dataframe tbody tr th:only-of-type {\n",
       "        vertical-align: middle;\n",
       "    }\n",
       "\n",
       "    .dataframe tbody tr th {\n",
       "        vertical-align: top;\n",
       "    }\n",
       "\n",
       "    .dataframe thead th {\n",
       "        text-align: right;\n",
       "    }\n",
       "</style>\n",
       "<table border=\"1\" class=\"dataframe\">\n",
       "  <thead>\n",
       "    <tr style=\"text-align: right;\">\n",
       "      <th></th>\n",
       "      <th>date</th>\n",
       "      <th>device_id</th>\n",
       "      <th>sessions</th>\n",
       "      <th>tts</th>\n",
       "      <th>month</th>\n",
       "      <th>app_name</th>\n",
       "      <th>android</th>\n",
       "      <th>day</th>\n",
       "      <th>day_name</th>\n",
       "      <th>month_name</th>\n",
       "    </tr>\n",
       "  </thead>\n",
       "  <tbody>\n",
       "    <tr>\n",
       "      <th>0</th>\n",
       "      <td>2021-05-21</td>\n",
       "      <td>yb0YMYO4QAyxb9cSsO4iGBpV9VSbXa</td>\n",
       "      <td>1</td>\n",
       "      <td>392</td>\n",
       "      <td>3</td>\n",
       "      <td>instagram</td>\n",
       "      <td>unknown</td>\n",
       "      <td>4</td>\n",
       "      <td>Friday</td>\n",
       "      <td>May</td>\n",
       "    </tr>\n",
       "    <tr>\n",
       "      <th>1</th>\n",
       "      <td>2021-09-26</td>\n",
       "      <td>JzG2JaSOoO7wvPmfmnocXKQdoI9r24</td>\n",
       "      <td>1</td>\n",
       "      <td>6</td>\n",
       "      <td>4</td>\n",
       "      <td>instagram</td>\n",
       "      <td>unknown</td>\n",
       "      <td>6</td>\n",
       "      <td>Sunday</td>\n",
       "      <td>September</td>\n",
       "    </tr>\n",
       "    <tr>\n",
       "      <th>2</th>\n",
       "      <td>2021-11-23</td>\n",
       "      <td>baPdvtjbrRxztRCNnuaQodr6ZvwwFn</td>\n",
       "      <td>2</td>\n",
       "      <td>266</td>\n",
       "      <td>3</td>\n",
       "      <td>whatsapp</td>\n",
       "      <td>android</td>\n",
       "      <td>1</td>\n",
       "      <td>Tuesday</td>\n",
       "      <td>November</td>\n",
       "    </tr>\n",
       "    <tr>\n",
       "      <th>3</th>\n",
       "      <td>2021-07-01</td>\n",
       "      <td>8zfpLx8jdEwirtXKTPlrGQUB0y58Rb</td>\n",
       "      <td>22</td>\n",
       "      <td>1987</td>\n",
       "      <td>1</td>\n",
       "      <td>pinterest</td>\n",
       "      <td>android</td>\n",
       "      <td>3</td>\n",
       "      <td>Thursday</td>\n",
       "      <td>July</td>\n",
       "    </tr>\n",
       "    <tr>\n",
       "      <th>4</th>\n",
       "      <td>2021-03-31</td>\n",
       "      <td>PRJOvGZtFVtGlS4qcgXZaqKicB8g7Q</td>\n",
       "      <td>88</td>\n",
       "      <td>2561</td>\n",
       "      <td>7</td>\n",
       "      <td>facebook</td>\n",
       "      <td>unknown</td>\n",
       "      <td>2</td>\n",
       "      <td>Wednesday</td>\n",
       "      <td>March</td>\n",
       "    </tr>\n",
       "  </tbody>\n",
       "</table>\n",
       "</div>"
      ],
      "text/plain": [
       "        date                       device_id  sessions   tts  month  \\\n",
       "0 2021-05-21  yb0YMYO4QAyxb9cSsO4iGBpV9VSbXa         1   392      3   \n",
       "1 2021-09-26  JzG2JaSOoO7wvPmfmnocXKQdoI9r24         1     6      4   \n",
       "2 2021-11-23  baPdvtjbrRxztRCNnuaQodr6ZvwwFn         2   266      3   \n",
       "3 2021-07-01  8zfpLx8jdEwirtXKTPlrGQUB0y58Rb        22  1987      1   \n",
       "4 2021-03-31  PRJOvGZtFVtGlS4qcgXZaqKicB8g7Q        88  2561      7   \n",
       "\n",
       "    app_name  android  day   day_name month_name  \n",
       "0  instagram  unknown    4     Friday        May  \n",
       "1  instagram  unknown    6     Sunday  September  \n",
       "2   whatsapp  android    1    Tuesday   November  \n",
       "3  pinterest  android    3   Thursday       July  \n",
       "4   facebook  unknown    2  Wednesday      March  "
      ]
     },
     "execution_count": 17,
     "metadata": {},
     "output_type": "execute_result"
    }
   ],
   "source": [
    "data.head()"
   ]
  },
  {
   "cell_type": "markdown",
   "metadata": {},
   "source": [
    "### Calculating Time Per Session"
   ]
  },
  {
   "cell_type": "code",
   "execution_count": 18,
   "metadata": {},
   "outputs": [],
   "source": [
    "data['tps'] = round(data['tts']/data['sessions'], 2)"
   ]
  },
  {
   "cell_type": "markdown",
   "metadata": {},
   "source": [
    "### Reordering Table"
   ]
  },
  {
   "cell_type": "code",
   "execution_count": 19,
   "metadata": {},
   "outputs": [],
   "source": [
    "data = data[['date', 'device_id', 'sessions', 'tts', 'tps', 'app_name', 'android', 'month', 'month_name', 'day', 'day_name']]"
   ]
  },
  {
   "cell_type": "code",
   "execution_count": 20,
   "metadata": {},
   "outputs": [
    {
     "data": {
      "text/html": [
       "<div>\n",
       "<style scoped>\n",
       "    .dataframe tbody tr th:only-of-type {\n",
       "        vertical-align: middle;\n",
       "    }\n",
       "\n",
       "    .dataframe tbody tr th {\n",
       "        vertical-align: top;\n",
       "    }\n",
       "\n",
       "    .dataframe thead th {\n",
       "        text-align: right;\n",
       "    }\n",
       "</style>\n",
       "<table border=\"1\" class=\"dataframe\">\n",
       "  <thead>\n",
       "    <tr style=\"text-align: right;\">\n",
       "      <th></th>\n",
       "      <th>date</th>\n",
       "      <th>device_id</th>\n",
       "      <th>sessions</th>\n",
       "      <th>tts</th>\n",
       "      <th>tps</th>\n",
       "      <th>app_name</th>\n",
       "      <th>android</th>\n",
       "      <th>month</th>\n",
       "      <th>month_name</th>\n",
       "      <th>day</th>\n",
       "      <th>day_name</th>\n",
       "    </tr>\n",
       "  </thead>\n",
       "  <tbody>\n",
       "    <tr>\n",
       "      <th>0</th>\n",
       "      <td>2021-05-21</td>\n",
       "      <td>yb0YMYO4QAyxb9cSsO4iGBpV9VSbXa</td>\n",
       "      <td>1</td>\n",
       "      <td>392</td>\n",
       "      <td>392.00</td>\n",
       "      <td>instagram</td>\n",
       "      <td>unknown</td>\n",
       "      <td>3</td>\n",
       "      <td>May</td>\n",
       "      <td>4</td>\n",
       "      <td>Friday</td>\n",
       "    </tr>\n",
       "    <tr>\n",
       "      <th>1</th>\n",
       "      <td>2021-09-26</td>\n",
       "      <td>JzG2JaSOoO7wvPmfmnocXKQdoI9r24</td>\n",
       "      <td>1</td>\n",
       "      <td>6</td>\n",
       "      <td>6.00</td>\n",
       "      <td>instagram</td>\n",
       "      <td>unknown</td>\n",
       "      <td>4</td>\n",
       "      <td>September</td>\n",
       "      <td>6</td>\n",
       "      <td>Sunday</td>\n",
       "    </tr>\n",
       "    <tr>\n",
       "      <th>2</th>\n",
       "      <td>2021-11-23</td>\n",
       "      <td>baPdvtjbrRxztRCNnuaQodr6ZvwwFn</td>\n",
       "      <td>2</td>\n",
       "      <td>266</td>\n",
       "      <td>133.00</td>\n",
       "      <td>whatsapp</td>\n",
       "      <td>android</td>\n",
       "      <td>3</td>\n",
       "      <td>November</td>\n",
       "      <td>1</td>\n",
       "      <td>Tuesday</td>\n",
       "    </tr>\n",
       "    <tr>\n",
       "      <th>3</th>\n",
       "      <td>2021-07-01</td>\n",
       "      <td>8zfpLx8jdEwirtXKTPlrGQUB0y58Rb</td>\n",
       "      <td>22</td>\n",
       "      <td>1987</td>\n",
       "      <td>90.32</td>\n",
       "      <td>pinterest</td>\n",
       "      <td>android</td>\n",
       "      <td>1</td>\n",
       "      <td>July</td>\n",
       "      <td>3</td>\n",
       "      <td>Thursday</td>\n",
       "    </tr>\n",
       "    <tr>\n",
       "      <th>4</th>\n",
       "      <td>2021-03-31</td>\n",
       "      <td>PRJOvGZtFVtGlS4qcgXZaqKicB8g7Q</td>\n",
       "      <td>88</td>\n",
       "      <td>2561</td>\n",
       "      <td>29.10</td>\n",
       "      <td>facebook</td>\n",
       "      <td>unknown</td>\n",
       "      <td>7</td>\n",
       "      <td>March</td>\n",
       "      <td>2</td>\n",
       "      <td>Wednesday</td>\n",
       "    </tr>\n",
       "  </tbody>\n",
       "</table>\n",
       "</div>"
      ],
      "text/plain": [
       "        date                       device_id  sessions   tts     tps  \\\n",
       "0 2021-05-21  yb0YMYO4QAyxb9cSsO4iGBpV9VSbXa         1   392  392.00   \n",
       "1 2021-09-26  JzG2JaSOoO7wvPmfmnocXKQdoI9r24         1     6    6.00   \n",
       "2 2021-11-23  baPdvtjbrRxztRCNnuaQodr6ZvwwFn         2   266  133.00   \n",
       "3 2021-07-01  8zfpLx8jdEwirtXKTPlrGQUB0y58Rb        22  1987   90.32   \n",
       "4 2021-03-31  PRJOvGZtFVtGlS4qcgXZaqKicB8g7Q        88  2561   29.10   \n",
       "\n",
       "    app_name  android  month month_name  day   day_name  \n",
       "0  instagram  unknown      3        May    4     Friday  \n",
       "1  instagram  unknown      4  September    6     Sunday  \n",
       "2   whatsapp  android      3   November    1    Tuesday  \n",
       "3  pinterest  android      1       July    3   Thursday  \n",
       "4   facebook  unknown      7      March    2  Wednesday  "
      ]
     },
     "execution_count": 20,
     "metadata": {},
     "output_type": "execute_result"
    }
   ],
   "source": [
    "data.head()"
   ]
  },
  {
   "cell_type": "markdown",
   "metadata": {},
   "source": [
    "## Data Transformations"
   ]
  },
  {
   "cell_type": "code",
   "execution_count": 21,
   "metadata": {},
   "outputs": [],
   "source": [
    "from scipy import stats"
   ]
  },
  {
   "cell_type": "code",
   "execution_count": 22,
   "metadata": {},
   "outputs": [],
   "source": [
    "def transform_data(column, data=data):\n",
    "    temp = data[['app_name', '{}'.format(column)]].copy()\n",
    "    temp['logarithm_base10'] = np.log10(temp['{}'.format(column)])\n",
    "    temp['natural_log'] = np.log(temp['{}'.format(column)])\n",
    "    temp['boxcox'], fitted_lambda = stats.boxcox(temp['{}'.format(column)])\n",
    "    return temp\n",
    "\n",
    "def get_stats(column, temp):\n",
    "    stat, p = stats.skewtest(temp['{}'.format(column)])\n",
    "    print('Skew: {:.2f} P-Value: {:.5f}'.format(stat, p))\n",
    "    \n",
    "    stat, p = stats.kurtosistest(temp['{}'.format(column)])\n",
    "    print('Kurtosis: {:.2f} P-Value: {:.5f}'.format(stat, p))\n",
    "    \n",
    "    stat, p = stats.normaltest(temp['{}'.format(column)])\n",
    "    print('Normality: {:.2f} P-Value: {:.5f}'.format(stat, p))\n",
    "    \n",
    "def show_kde(column, temp):\n",
    "    sns.kdeplot(temp['{}'.format(column)], fill=True,\n",
    "            label = \"Normal\", palette = 'YlGnBu')\n",
    "    plt.show()\n",
    "\n",
    "\n",
    "def eval_transforms(temp):\n",
    "    print('Logarithm Base 10 Metrics')\n",
    "    get_stats('logarithm_base10', temp)\n",
    "    show_kde('logarithm_base10', temp)\n",
    "    \n",
    "    print('Natural Log Metrics')\n",
    "    get_stats('natural_log', temp)\n",
    "    show_kde('natural_log', temp)\n",
    "    \n",
    "    print('Box Cox Metrics')\n",
    "    get_stats('boxcox', temp)\n",
    "    show_kde('boxcox', temp)"
   ]
  },
  {
   "cell_type": "code",
   "execution_count": 23,
   "metadata": {},
   "outputs": [
    {
     "name": "stdout",
     "output_type": "stream",
     "text": [
      "Logarithm Base 10 Metrics\n",
      "Skew: 316.63 P-Value: 0.00000\n",
      "Kurtosis: -596.03 P-Value: 0.00000\n",
      "Normality: 455502.72 P-Value: 0.00000\n"
     ]
    },
    {
     "data": {
      "image/png": "[encoded data removed]",
      "text/plain": [
       "<Figure size 432x288 with 1 Axes>"
      ]
     },
     "metadata": {
      "needs_background": "light"
     },
     "output_type": "display_data"
    },
    {
     "name": "stdout",
     "output_type": "stream",
     "text": [
      "Natural Log Metrics\n",
      "Skew: 316.63 P-Value: 0.00000\n",
      "Kurtosis: -596.03 P-Value: 0.00000\n",
      "Normality: 455502.72 P-Value: 0.00000\n"
     ]
    },
    {
     "data": {
      "image/png": "[encoded data removed]",
      "text/plain": [
       "<Figure size 432x288 with 1 Axes>"
      ]
     },
     "metadata": {
      "needs_background": "light"
     },
     "output_type": "display_data"
    },
    {
     "name": "stdout",
     "output_type": "stream",
     "text": [
      "Box Cox Metrics\n",
      "Skew: 60.61 P-Value: 0.00000\n",
      "Kurtosis: -1295.78 P-Value: 0.00000\n",
      "Normality: 1682707.44 P-Value: 0.00000\n"
     ]
    },
    {
     "data": {
      "image/png": "[encoded data removed]",
      "text/plain": [
       "<Figure size 432x288 with 1 Axes>"
      ]
     },
     "metadata": {
      "needs_background": "light"
     },
     "output_type": "display_data"
    }
   ],
   "source": [
    "temp = transform_data('sessions')\n",
    "eval_transforms(temp)"
   ]
  },
  {
   "cell_type": "code",
   "execution_count": 24,
   "metadata": {},
   "outputs": [
    {
     "name": "stdout",
     "output_type": "stream",
     "text": [
      "Logarithm Base 10 Metrics\n",
      "Skew: -342.99 P-Value: 0.00000\n",
      "Kurtosis: -357.20 P-Value: 0.00000\n",
      "Normality: 245235.22 P-Value: 0.00000\n"
     ]
    },
    {
     "data": {
      "image/png": "[encoded data removed]",
      "text/plain": [
       "<Figure size 432x288 with 1 Axes>"
      ]
     },
     "metadata": {
      "needs_background": "light"
     },
     "output_type": "display_data"
    },
    {
     "name": "stdout",
     "output_type": "stream",
     "text": [
      "Natural Log Metrics\n",
      "Skew: -342.99 P-Value: 0.00000\n",
      "Kurtosis: -357.20 P-Value: 0.00000\n",
      "Normality: 245235.22 P-Value: 0.00000\n"
     ]
    },
    {
     "data": {
      "image/png": "[encoded data removed]",
      "text/plain": [
       "<Figure size 432x288 with 1 Axes>"
      ]
     },
     "metadata": {
      "needs_background": "light"
     },
     "output_type": "display_data"
    },
    {
     "name": "stdout",
     "output_type": "stream",
     "text": [
      "Box Cox Metrics\n",
      "Skew: -41.90 P-Value: 0.00000\n",
      "Kurtosis: -559.69 P-Value: 0.00000\n",
      "Normality: 315010.45 P-Value: 0.00000\n"
     ]
    },
    {
     "data": {
      "image/png": "[encoded data removed]",
      "text/plain": [
       "<Figure size 432x288 with 1 Axes>"
      ]
     },
     "metadata": {
      "needs_background": "light"
     },
     "output_type": "display_data"
    }
   ],
   "source": [
    "temp = transform_data('tts')\n",
    "eval_transforms(temp)"
   ]
  },
  {
   "cell_type": "code",
   "execution_count": 25,
   "metadata": {},
   "outputs": [
    {
     "name": "stdout",
     "output_type": "stream",
     "text": [
      "Logarithm Base 10 Metrics\n",
      "Skew: -96.90 P-Value: 0.00000\n",
      "Kurtosis: -40.33 P-Value: 0.00000\n",
      "Normality: 11016.68 P-Value: 0.00000\n"
     ]
    },
    {
     "data": {
      "image/png": "[encoded data removed]",
      "text/plain": [
       "<Figure size 432x288 with 1 Axes>"
      ]
     },
     "metadata": {
      "needs_background": "light"
     },
     "output_type": "display_data"
    },
    {
     "name": "stdout",
     "output_type": "stream",
     "text": [
      "Natural Log Metrics\n",
      "Skew: -96.90 P-Value: 0.00000\n",
      "Kurtosis: -40.33 P-Value: 0.00000\n",
      "Normality: 11016.68 P-Value: 0.00000\n"
     ]
    },
    {
     "data": {
      "image/png": "[encoded data removed]",
      "text/plain": [
       "<Figure size 432x288 with 1 Axes>"
      ]
     },
     "metadata": {
      "needs_background": "light"
     },
     "output_type": "display_data"
    },
    {
     "name": "stdout",
     "output_type": "stream",
     "text": [
      "Box Cox Metrics\n",
      "Skew: -0.79 P-Value: 0.43171\n",
      "Kurtosis: -26.98 P-Value: 0.00000\n",
      "Normality: 728.69 P-Value: 0.00000\n"
     ]
    },
    {
     "data": {
      "image/png": "[encoded data removed]",
      "text/plain": [
       "<Figure size 432x288 with 1 Axes>"
      ]
     },
     "metadata": {
      "needs_background": "light"
     },
     "output_type": "display_data"
    }
   ],
   "source": [
    "temp = transform_data('tps')\n",
    "eval_transforms(temp)"
   ]
  },
  {
   "cell_type": "markdown",
   "metadata": {},
   "source": [
    "## Adding In Data Transformations "
   ]
  },
  {
   "cell_type": "code",
   "execution_count": 26,
   "metadata": {},
   "outputs": [],
   "source": [
    "data['tts_boxcox'], fitted_lambda = stats.boxcox(data['tts'])\n",
    "data['tps_boxcox'], fitted_lambda = stats.boxcox(data['tps'])"
   ]
  },
  {
   "cell_type": "code",
   "execution_count": 27,
   "metadata": {},
   "outputs": [
    {
     "data": {
      "text/html": [
       "<div>\n",
       "<style scoped>\n",
       "    .dataframe tbody tr th:only-of-type {\n",
       "        vertical-align: middle;\n",
       "    }\n",
       "\n",
       "    .dataframe tbody tr th {\n",
       "        vertical-align: top;\n",
       "    }\n",
       "\n",
       "    .dataframe thead th {\n",
       "        text-align: right;\n",
       "    }\n",
       "</style>\n",
       "<table border=\"1\" class=\"dataframe\">\n",
       "  <thead>\n",
       "    <tr style=\"text-align: right;\">\n",
       "      <th></th>\n",
       "      <th>date</th>\n",
       "      <th>device_id</th>\n",
       "      <th>sessions</th>\n",
       "      <th>tts</th>\n",
       "      <th>tps</th>\n",
       "      <th>app_name</th>\n",
       "      <th>android</th>\n",
       "      <th>month</th>\n",
       "      <th>month_name</th>\n",
       "      <th>day</th>\n",
       "      <th>day_name</th>\n",
       "      <th>tts_boxcox</th>\n",
       "      <th>tps_boxcox</th>\n",
       "    </tr>\n",
       "  </thead>\n",
       "  <tbody>\n",
       "    <tr>\n",
       "      <th>0</th>\n",
       "      <td>2021-05-21</td>\n",
       "      <td>yb0YMYO4QAyxb9cSsO4iGBpV9VSbXa</td>\n",
       "      <td>1</td>\n",
       "      <td>392</td>\n",
       "      <td>392.00</td>\n",
       "      <td>instagram</td>\n",
       "      <td>unknown</td>\n",
       "      <td>3</td>\n",
       "      <td>May</td>\n",
       "      <td>4</td>\n",
       "      <td>Friday</td>\n",
       "      <td>7.720724</td>\n",
       "      <td>6.415609</td>\n",
       "    </tr>\n",
       "    <tr>\n",
       "      <th>1</th>\n",
       "      <td>2021-09-26</td>\n",
       "      <td>JzG2JaSOoO7wvPmfmnocXKQdoI9r24</td>\n",
       "      <td>1</td>\n",
       "      <td>6</td>\n",
       "      <td>6.00</td>\n",
       "      <td>instagram</td>\n",
       "      <td>unknown</td>\n",
       "      <td>4</td>\n",
       "      <td>September</td>\n",
       "      <td>6</td>\n",
       "      <td>Sunday</td>\n",
       "      <td>1.931261</td>\n",
       "      <td>1.830445</td>\n",
       "    </tr>\n",
       "    <tr>\n",
       "      <th>2</th>\n",
       "      <td>2021-11-23</td>\n",
       "      <td>baPdvtjbrRxztRCNnuaQodr6ZvwwFn</td>\n",
       "      <td>2</td>\n",
       "      <td>266</td>\n",
       "      <td>133.00</td>\n",
       "      <td>whatsapp</td>\n",
       "      <td>android</td>\n",
       "      <td>3</td>\n",
       "      <td>November</td>\n",
       "      <td>1</td>\n",
       "      <td>Tuesday</td>\n",
       "      <td>7.095537</td>\n",
       "      <td>5.185791</td>\n",
       "    </tr>\n",
       "    <tr>\n",
       "      <th>3</th>\n",
       "      <td>2021-07-01</td>\n",
       "      <td>8zfpLx8jdEwirtXKTPlrGQUB0y58Rb</td>\n",
       "      <td>22</td>\n",
       "      <td>1987</td>\n",
       "      <td>90.32</td>\n",
       "      <td>pinterest</td>\n",
       "      <td>android</td>\n",
       "      <td>1</td>\n",
       "      <td>July</td>\n",
       "      <td>3</td>\n",
       "      <td>Thursday</td>\n",
       "      <td>10.566469</td>\n",
       "      <td>4.753111</td>\n",
       "    </tr>\n",
       "    <tr>\n",
       "      <th>4</th>\n",
       "      <td>2021-03-31</td>\n",
       "      <td>PRJOvGZtFVtGlS4qcgXZaqKicB8g7Q</td>\n",
       "      <td>88</td>\n",
       "      <td>2561</td>\n",
       "      <td>29.10</td>\n",
       "      <td>facebook</td>\n",
       "      <td>unknown</td>\n",
       "      <td>7</td>\n",
       "      <td>March</td>\n",
       "      <td>2</td>\n",
       "      <td>Wednesday</td>\n",
       "      <td>11.046936</td>\n",
       "      <td>3.509391</td>\n",
       "    </tr>\n",
       "  </tbody>\n",
       "</table>\n",
       "</div>"
      ],
      "text/plain": [
       "        date                       device_id  sessions   tts     tps  \\\n",
       "0 2021-05-21  yb0YMYO4QAyxb9cSsO4iGBpV9VSbXa         1   392  392.00   \n",
       "1 2021-09-26  JzG2JaSOoO7wvPmfmnocXKQdoI9r24         1     6    6.00   \n",
       "2 2021-11-23  baPdvtjbrRxztRCNnuaQodr6ZvwwFn         2   266  133.00   \n",
       "3 2021-07-01  8zfpLx8jdEwirtXKTPlrGQUB0y58Rb        22  1987   90.32   \n",
       "4 2021-03-31  PRJOvGZtFVtGlS4qcgXZaqKicB8g7Q        88  2561   29.10   \n",
       "\n",
       "    app_name  android  month month_name  day   day_name  tts_boxcox  \\\n",
       "0  instagram  unknown      3        May    4     Friday    7.720724   \n",
       "1  instagram  unknown      4  September    6     Sunday    1.931261   \n",
       "2   whatsapp  android      3   November    1    Tuesday    7.095537   \n",
       "3  pinterest  android      1       July    3   Thursday   10.566469   \n",
       "4   facebook  unknown      7      March    2  Wednesday   11.046936   \n",
       "\n",
       "   tps_boxcox  \n",
       "0    6.415609  \n",
       "1    1.830445  \n",
       "2    5.185791  \n",
       "3    4.753111  \n",
       "4    3.509391  "
      ]
     },
     "execution_count": 27,
     "metadata": {},
     "output_type": "execute_result"
    }
   ],
   "source": [
    "data.head()"
   ]
  },
  {
   "cell_type": "markdown",
   "metadata": {},
   "source": [
    "## Normalizing Data"
   ]
  },
  {
   "cell_type": "code",
   "execution_count": 28,
   "metadata": {},
   "outputs": [
    {
     "data": {
      "text/html": [
       "<div>\n",
       "<style scoped>\n",
       "    .dataframe tbody tr th:only-of-type {\n",
       "        vertical-align: middle;\n",
       "    }\n",
       "\n",
       "    .dataframe tbody tr th {\n",
       "        vertical-align: top;\n",
       "    }\n",
       "\n",
       "    .dataframe thead th {\n",
       "        text-align: right;\n",
       "    }\n",
       "</style>\n",
       "<table border=\"1\" class=\"dataframe\">\n",
       "  <thead>\n",
       "    <tr style=\"text-align: right;\">\n",
       "      <th></th>\n",
       "      <th>date</th>\n",
       "      <th>device_id</th>\n",
       "      <th>sessions</th>\n",
       "      <th>tts</th>\n",
       "      <th>tps</th>\n",
       "      <th>app_name</th>\n",
       "      <th>android</th>\n",
       "      <th>month</th>\n",
       "      <th>month_name</th>\n",
       "      <th>day</th>\n",
       "      <th>day_name</th>\n",
       "      <th>tts_boxcox</th>\n",
       "      <th>tps_boxcox</th>\n",
       "      <th>sessions_scaled</th>\n",
       "      <th>tts_scaled</th>\n",
       "      <th>tps_scaled</th>\n",
       "    </tr>\n",
       "  </thead>\n",
       "  <tbody>\n",
       "    <tr>\n",
       "      <th>0</th>\n",
       "      <td>2021-05-21</td>\n",
       "      <td>yb0YMYO4QAyxb9cSsO4iGBpV9VSbXa</td>\n",
       "      <td>1</td>\n",
       "      <td>392</td>\n",
       "      <td>392.00</td>\n",
       "      <td>instagram</td>\n",
       "      <td>unknown</td>\n",
       "      <td>3</td>\n",
       "      <td>May</td>\n",
       "      <td>4</td>\n",
       "      <td>Friday</td>\n",
       "      <td>7.720724</td>\n",
       "      <td>6.415609</td>\n",
       "      <td>0.000000</td>\n",
       "      <td>0.352369</td>\n",
       "      <td>0.462865</td>\n",
       "    </tr>\n",
       "    <tr>\n",
       "      <th>1</th>\n",
       "      <td>2021-09-26</td>\n",
       "      <td>JzG2JaSOoO7wvPmfmnocXKQdoI9r24</td>\n",
       "      <td>1</td>\n",
       "      <td>6</td>\n",
       "      <td>6.00</td>\n",
       "      <td>instagram</td>\n",
       "      <td>unknown</td>\n",
       "      <td>4</td>\n",
       "      <td>September</td>\n",
       "      <td>6</td>\n",
       "      <td>Sunday</td>\n",
       "      <td>1.931261</td>\n",
       "      <td>1.830445</td>\n",
       "      <td>0.000000</td>\n",
       "      <td>0.061241</td>\n",
       "      <td>0.091619</td>\n",
       "    </tr>\n",
       "    <tr>\n",
       "      <th>2</th>\n",
       "      <td>2021-11-23</td>\n",
       "      <td>baPdvtjbrRxztRCNnuaQodr6ZvwwFn</td>\n",
       "      <td>2</td>\n",
       "      <td>266</td>\n",
       "      <td>133.00</td>\n",
       "      <td>whatsapp</td>\n",
       "      <td>android</td>\n",
       "      <td>3</td>\n",
       "      <td>November</td>\n",
       "      <td>1</td>\n",
       "      <td>Tuesday</td>\n",
       "      <td>7.095537</td>\n",
       "      <td>5.185791</td>\n",
       "      <td>0.001451</td>\n",
       "      <td>0.320931</td>\n",
       "      <td>0.363291</td>\n",
       "    </tr>\n",
       "    <tr>\n",
       "      <th>3</th>\n",
       "      <td>2021-07-01</td>\n",
       "      <td>8zfpLx8jdEwirtXKTPlrGQUB0y58Rb</td>\n",
       "      <td>22</td>\n",
       "      <td>1987</td>\n",
       "      <td>90.32</td>\n",
       "      <td>pinterest</td>\n",
       "      <td>android</td>\n",
       "      <td>1</td>\n",
       "      <td>July</td>\n",
       "      <td>3</td>\n",
       "      <td>Thursday</td>\n",
       "      <td>10.566469</td>\n",
       "      <td>4.753111</td>\n",
       "      <td>0.030479</td>\n",
       "      <td>0.495469</td>\n",
       "      <td>0.328258</td>\n",
       "    </tr>\n",
       "    <tr>\n",
       "      <th>4</th>\n",
       "      <td>2021-03-31</td>\n",
       "      <td>PRJOvGZtFVtGlS4qcgXZaqKicB8g7Q</td>\n",
       "      <td>88</td>\n",
       "      <td>2561</td>\n",
       "      <td>29.10</td>\n",
       "      <td>facebook</td>\n",
       "      <td>unknown</td>\n",
       "      <td>7</td>\n",
       "      <td>March</td>\n",
       "      <td>2</td>\n",
       "      <td>Wednesday</td>\n",
       "      <td>11.046936</td>\n",
       "      <td>3.509391</td>\n",
       "      <td>0.126270</td>\n",
       "      <td>0.519630</td>\n",
       "      <td>0.227558</td>\n",
       "    </tr>\n",
       "  </tbody>\n",
       "</table>\n",
       "</div>"
      ],
      "text/plain": [
       "        date                       device_id  sessions   tts     tps  \\\n",
       "0 2021-05-21  yb0YMYO4QAyxb9cSsO4iGBpV9VSbXa         1   392  392.00   \n",
       "1 2021-09-26  JzG2JaSOoO7wvPmfmnocXKQdoI9r24         1     6    6.00   \n",
       "2 2021-11-23  baPdvtjbrRxztRCNnuaQodr6ZvwwFn         2   266  133.00   \n",
       "3 2021-07-01  8zfpLx8jdEwirtXKTPlrGQUB0y58Rb        22  1987   90.32   \n",
       "4 2021-03-31  PRJOvGZtFVtGlS4qcgXZaqKicB8g7Q        88  2561   29.10   \n",
       "\n",
       "    app_name  android  month month_name  day   day_name  tts_boxcox  \\\n",
       "0  instagram  unknown      3        May    4     Friday    7.720724   \n",
       "1  instagram  unknown      4  September    6     Sunday    1.931261   \n",
       "2   whatsapp  android      3   November    1    Tuesday    7.095537   \n",
       "3  pinterest  android      1       July    3   Thursday   10.566469   \n",
       "4   facebook  unknown      7      March    2  Wednesday   11.046936   \n",
       "\n",
       "   tps_boxcox  sessions_scaled  tts_scaled  tps_scaled  \n",
       "0    6.415609         0.000000    0.352369    0.462865  \n",
       "1    1.830445         0.000000    0.061241    0.091619  \n",
       "2    5.185791         0.001451    0.320931    0.363291  \n",
       "3    4.753111         0.030479    0.495469    0.328258  \n",
       "4    3.509391         0.126270    0.519630    0.227558  "
      ]
     },
     "execution_count": 28,
     "metadata": {},
     "output_type": "execute_result"
    }
   ],
   "source": [
    "from sklearn.preprocessing import MinMaxScaler\n",
    "\n",
    "data['sessions_scaled'] = MinMaxScaler().fit_transform(np.array(data['sessions']).reshape(-1,1))\n",
    "data['tts_scaled'] = MinMaxScaler().fit_transform(np.array(data['tts_boxcox']).reshape(-1,1))\n",
    "data['tps_scaled'] = MinMaxScaler().fit_transform(np.array(data['tps_boxcox']).reshape(-1,1))\n",
    "\n",
    "data.head()"
   ]
  },
  {
   "cell_type": "markdown",
   "metadata": {},
   "source": [
    "## Standardizing Data"
   ]
  },
  {
   "cell_type": "code",
   "execution_count": 29,
   "metadata": {},
   "outputs": [
    {
     "data": {
      "text/html": [
       "<div>\n",
       "<style scoped>\n",
       "    .dataframe tbody tr th:only-of-type {\n",
       "        vertical-align: middle;\n",
       "    }\n",
       "\n",
       "    .dataframe tbody tr th {\n",
       "        vertical-align: top;\n",
       "    }\n",
       "\n",
       "    .dataframe thead th {\n",
       "        text-align: right;\n",
       "    }\n",
       "</style>\n",
       "<table border=\"1\" class=\"dataframe\">\n",
       "  <thead>\n",
       "    <tr style=\"text-align: right;\">\n",
       "      <th></th>\n",
       "      <th>date</th>\n",
       "      <th>device_id</th>\n",
       "      <th>sessions</th>\n",
       "      <th>tts</th>\n",
       "      <th>tps</th>\n",
       "      <th>app_name</th>\n",
       "      <th>android</th>\n",
       "      <th>month</th>\n",
       "      <th>month_name</th>\n",
       "      <th>day</th>\n",
       "      <th>day_name</th>\n",
       "      <th>tts_boxcox</th>\n",
       "      <th>tps_boxcox</th>\n",
       "      <th>sessions_scaled</th>\n",
       "      <th>tts_scaled</th>\n",
       "      <th>tps_scaled</th>\n",
       "      <th>sessions_stand</th>\n",
       "      <th>tts_stand</th>\n",
       "      <th>tps_stand</th>\n",
       "    </tr>\n",
       "  </thead>\n",
       "  <tbody>\n",
       "    <tr>\n",
       "      <th>0</th>\n",
       "      <td>2021-05-21</td>\n",
       "      <td>yb0YMYO4QAyxb9cSsO4iGBpV9VSbXa</td>\n",
       "      <td>1</td>\n",
       "      <td>392</td>\n",
       "      <td>392.00</td>\n",
       "      <td>instagram</td>\n",
       "      <td>unknown</td>\n",
       "      <td>3</td>\n",
       "      <td>May</td>\n",
       "      <td>4</td>\n",
       "      <td>Friday</td>\n",
       "      <td>7.720724</td>\n",
       "      <td>6.415609</td>\n",
       "      <td>0.000000</td>\n",
       "      <td>0.352369</td>\n",
       "      <td>0.462865</td>\n",
       "      <td>-0.570834</td>\n",
       "      <td>-0.284362</td>\n",
       "      <td>0.740284</td>\n",
       "    </tr>\n",
       "    <tr>\n",
       "      <th>1</th>\n",
       "      <td>2021-09-26</td>\n",
       "      <td>JzG2JaSOoO7wvPmfmnocXKQdoI9r24</td>\n",
       "      <td>1</td>\n",
       "      <td>6</td>\n",
       "      <td>6.00</td>\n",
       "      <td>instagram</td>\n",
       "      <td>unknown</td>\n",
       "      <td>4</td>\n",
       "      <td>September</td>\n",
       "      <td>6</td>\n",
       "      <td>Sunday</td>\n",
       "      <td>1.931261</td>\n",
       "      <td>1.830445</td>\n",
       "      <td>0.000000</td>\n",
       "      <td>0.061241</td>\n",
       "      <td>0.091619</td>\n",
       "      <td>-0.570834</td>\n",
       "      <td>-1.872475</td>\n",
       "      <td>-1.909764</td>\n",
       "    </tr>\n",
       "    <tr>\n",
       "      <th>2</th>\n",
       "      <td>2021-11-23</td>\n",
       "      <td>baPdvtjbrRxztRCNnuaQodr6ZvwwFn</td>\n",
       "      <td>2</td>\n",
       "      <td>266</td>\n",
       "      <td>133.00</td>\n",
       "      <td>whatsapp</td>\n",
       "      <td>android</td>\n",
       "      <td>3</td>\n",
       "      <td>November</td>\n",
       "      <td>1</td>\n",
       "      <td>Tuesday</td>\n",
       "      <td>7.095537</td>\n",
       "      <td>5.185791</td>\n",
       "      <td>0.001451</td>\n",
       "      <td>0.320931</td>\n",
       "      <td>0.363291</td>\n",
       "      <td>-0.510790</td>\n",
       "      <td>-0.455858</td>\n",
       "      <td>0.029497</td>\n",
       "    </tr>\n",
       "    <tr>\n",
       "      <th>3</th>\n",
       "      <td>2021-07-01</td>\n",
       "      <td>8zfpLx8jdEwirtXKTPlrGQUB0y58Rb</td>\n",
       "      <td>22</td>\n",
       "      <td>1987</td>\n",
       "      <td>90.32</td>\n",
       "      <td>pinterest</td>\n",
       "      <td>android</td>\n",
       "      <td>1</td>\n",
       "      <td>July</td>\n",
       "      <td>3</td>\n",
       "      <td>Thursday</td>\n",
       "      <td>10.566469</td>\n",
       "      <td>4.753111</td>\n",
       "      <td>0.030479</td>\n",
       "      <td>0.495469</td>\n",
       "      <td>0.328258</td>\n",
       "      <td>0.690078</td>\n",
       "      <td>0.496257</td>\n",
       "      <td>-0.220575</td>\n",
       "    </tr>\n",
       "    <tr>\n",
       "      <th>4</th>\n",
       "      <td>2021-03-31</td>\n",
       "      <td>PRJOvGZtFVtGlS4qcgXZaqKicB8g7Q</td>\n",
       "      <td>88</td>\n",
       "      <td>2561</td>\n",
       "      <td>29.10</td>\n",
       "      <td>facebook</td>\n",
       "      <td>unknown</td>\n",
       "      <td>7</td>\n",
       "      <td>March</td>\n",
       "      <td>2</td>\n",
       "      <td>Wednesday</td>\n",
       "      <td>11.046936</td>\n",
       "      <td>3.509391</td>\n",
       "      <td>0.126270</td>\n",
       "      <td>0.519630</td>\n",
       "      <td>0.227558</td>\n",
       "      <td>4.652944</td>\n",
       "      <td>0.628054</td>\n",
       "      <td>-0.939398</td>\n",
       "    </tr>\n",
       "  </tbody>\n",
       "</table>\n",
       "</div>"
      ],
      "text/plain": [
       "        date                       device_id  sessions   tts     tps  \\\n",
       "0 2021-05-21  yb0YMYO4QAyxb9cSsO4iGBpV9VSbXa         1   392  392.00   \n",
       "1 2021-09-26  JzG2JaSOoO7wvPmfmnocXKQdoI9r24         1     6    6.00   \n",
       "2 2021-11-23  baPdvtjbrRxztRCNnuaQodr6ZvwwFn         2   266  133.00   \n",
       "3 2021-07-01  8zfpLx8jdEwirtXKTPlrGQUB0y58Rb        22  1987   90.32   \n",
       "4 2021-03-31  PRJOvGZtFVtGlS4qcgXZaqKicB8g7Q        88  2561   29.10   \n",
       "\n",
       "    app_name  android  month month_name  day   day_name  tts_boxcox  \\\n",
       "0  instagram  unknown      3        May    4     Friday    7.720724   \n",
       "1  instagram  unknown      4  September    6     Sunday    1.931261   \n",
       "2   whatsapp  android      3   November    1    Tuesday    7.095537   \n",
       "3  pinterest  android      1       July    3   Thursday   10.566469   \n",
       "4   facebook  unknown      7      March    2  Wednesday   11.046936   \n",
       "\n",
       "   tps_boxcox  sessions_scaled  tts_scaled  tps_scaled  sessions_stand  \\\n",
       "0    6.415609         0.000000    0.352369    0.462865       -0.570834   \n",
       "1    1.830445         0.000000    0.061241    0.091619       -0.570834   \n",
       "2    5.185791         0.001451    0.320931    0.363291       -0.510790   \n",
       "3    4.753111         0.030479    0.495469    0.328258        0.690078   \n",
       "4    3.509391         0.126270    0.519630    0.227558        4.652944   \n",
       "\n",
       "   tts_stand  tps_stand  \n",
       "0  -0.284362   0.740284  \n",
       "1  -1.872475  -1.909764  \n",
       "2  -0.455858   0.029497  \n",
       "3   0.496257  -0.220575  \n",
       "4   0.628054  -0.939398  "
      ]
     },
     "execution_count": 29,
     "metadata": {},
     "output_type": "execute_result"
    }
   ],
   "source": [
    "from sklearn.preprocessing import StandardScaler\n",
    "\n",
    "data['sessions_stand'] = StandardScaler().fit_transform(np.array(data['sessions']).reshape(-1,1))\n",
    "data['tts_stand'] = StandardScaler().fit_transform(np.array(data['tts_boxcox']).reshape(-1,1))\n",
    "data['tps_stand'] = StandardScaler().fit_transform(np.array(data['tps_boxcox']).reshape(-1,1))\n",
    "\n",
    "data.head()"
   ]
  },
  {
   "cell_type": "markdown",
   "metadata": {},
   "source": [
    "## Encoding - LabelEncoder"
   ]
  },
  {
   "cell_type": "code",
   "execution_count": 30,
   "metadata": {},
   "outputs": [
    {
     "data": {
      "text/html": [
       "<div>\n",
       "<style scoped>\n",
       "    .dataframe tbody tr th:only-of-type {\n",
       "        vertical-align: middle;\n",
       "    }\n",
       "\n",
       "    .dataframe tbody tr th {\n",
       "        vertical-align: top;\n",
       "    }\n",
       "\n",
       "    .dataframe thead th {\n",
       "        text-align: right;\n",
       "    }\n",
       "</style>\n",
       "<table border=\"1\" class=\"dataframe\">\n",
       "  <thead>\n",
       "    <tr style=\"text-align: right;\">\n",
       "      <th></th>\n",
       "      <th>date</th>\n",
       "      <th>device_id</th>\n",
       "      <th>sessions</th>\n",
       "      <th>tts</th>\n",
       "      <th>tps</th>\n",
       "      <th>app_name</th>\n",
       "      <th>android</th>\n",
       "      <th>month</th>\n",
       "      <th>month_name</th>\n",
       "      <th>day</th>\n",
       "      <th>...</th>\n",
       "      <th>tts_boxcox</th>\n",
       "      <th>tps_boxcox</th>\n",
       "      <th>sessions_scaled</th>\n",
       "      <th>tts_scaled</th>\n",
       "      <th>tps_scaled</th>\n",
       "      <th>sessions_stand</th>\n",
       "      <th>tts_stand</th>\n",
       "      <th>tps_stand</th>\n",
       "      <th>app_number</th>\n",
       "      <th>android_num</th>\n",
       "    </tr>\n",
       "  </thead>\n",
       "  <tbody>\n",
       "    <tr>\n",
       "      <th>0</th>\n",
       "      <td>2021-05-21</td>\n",
       "      <td>yb0YMYO4QAyxb9cSsO4iGBpV9VSbXa</td>\n",
       "      <td>1</td>\n",
       "      <td>392</td>\n",
       "      <td>392.00</td>\n",
       "      <td>instagram</td>\n",
       "      <td>unknown</td>\n",
       "      <td>3</td>\n",
       "      <td>May</td>\n",
       "      <td>4</td>\n",
       "      <td>...</td>\n",
       "      <td>7.720724</td>\n",
       "      <td>6.415609</td>\n",
       "      <td>0.000000</td>\n",
       "      <td>0.352369</td>\n",
       "      <td>0.462865</td>\n",
       "      <td>-0.570834</td>\n",
       "      <td>-0.284362</td>\n",
       "      <td>0.740284</td>\n",
       "      <td>1</td>\n",
       "      <td>1</td>\n",
       "    </tr>\n",
       "    <tr>\n",
       "      <th>1</th>\n",
       "      <td>2021-09-26</td>\n",
       "      <td>JzG2JaSOoO7wvPmfmnocXKQdoI9r24</td>\n",
       "      <td>1</td>\n",
       "      <td>6</td>\n",
       "      <td>6.00</td>\n",
       "      <td>instagram</td>\n",
       "      <td>unknown</td>\n",
       "      <td>4</td>\n",
       "      <td>September</td>\n",
       "      <td>6</td>\n",
       "      <td>...</td>\n",
       "      <td>1.931261</td>\n",
       "      <td>1.830445</td>\n",
       "      <td>0.000000</td>\n",
       "      <td>0.061241</td>\n",
       "      <td>0.091619</td>\n",
       "      <td>-0.570834</td>\n",
       "      <td>-1.872475</td>\n",
       "      <td>-1.909764</td>\n",
       "      <td>1</td>\n",
       "      <td>1</td>\n",
       "    </tr>\n",
       "    <tr>\n",
       "      <th>2</th>\n",
       "      <td>2021-11-23</td>\n",
       "      <td>baPdvtjbrRxztRCNnuaQodr6ZvwwFn</td>\n",
       "      <td>2</td>\n",
       "      <td>266</td>\n",
       "      <td>133.00</td>\n",
       "      <td>whatsapp</td>\n",
       "      <td>android</td>\n",
       "      <td>3</td>\n",
       "      <td>November</td>\n",
       "      <td>1</td>\n",
       "      <td>...</td>\n",
       "      <td>7.095537</td>\n",
       "      <td>5.185791</td>\n",
       "      <td>0.001451</td>\n",
       "      <td>0.320931</td>\n",
       "      <td>0.363291</td>\n",
       "      <td>-0.510790</td>\n",
       "      <td>-0.455858</td>\n",
       "      <td>0.029497</td>\n",
       "      <td>6</td>\n",
       "      <td>0</td>\n",
       "    </tr>\n",
       "    <tr>\n",
       "      <th>3</th>\n",
       "      <td>2021-07-01</td>\n",
       "      <td>8zfpLx8jdEwirtXKTPlrGQUB0y58Rb</td>\n",
       "      <td>22</td>\n",
       "      <td>1987</td>\n",
       "      <td>90.32</td>\n",
       "      <td>pinterest</td>\n",
       "      <td>android</td>\n",
       "      <td>1</td>\n",
       "      <td>July</td>\n",
       "      <td>3</td>\n",
       "      <td>...</td>\n",
       "      <td>10.566469</td>\n",
       "      <td>4.753111</td>\n",
       "      <td>0.030479</td>\n",
       "      <td>0.495469</td>\n",
       "      <td>0.328258</td>\n",
       "      <td>0.690078</td>\n",
       "      <td>0.496257</td>\n",
       "      <td>-0.220575</td>\n",
       "      <td>2</td>\n",
       "      <td>0</td>\n",
       "    </tr>\n",
       "    <tr>\n",
       "      <th>4</th>\n",
       "      <td>2021-03-31</td>\n",
       "      <td>PRJOvGZtFVtGlS4qcgXZaqKicB8g7Q</td>\n",
       "      <td>88</td>\n",
       "      <td>2561</td>\n",
       "      <td>29.10</td>\n",
       "      <td>facebook</td>\n",
       "      <td>unknown</td>\n",
       "      <td>7</td>\n",
       "      <td>March</td>\n",
       "      <td>2</td>\n",
       "      <td>...</td>\n",
       "      <td>11.046936</td>\n",
       "      <td>3.509391</td>\n",
       "      <td>0.126270</td>\n",
       "      <td>0.519630</td>\n",
       "      <td>0.227558</td>\n",
       "      <td>4.652944</td>\n",
       "      <td>0.628054</td>\n",
       "      <td>-0.939398</td>\n",
       "      <td>0</td>\n",
       "      <td>1</td>\n",
       "    </tr>\n",
       "  </tbody>\n",
       "</table>\n",
       "<p>5 rows × 21 columns</p>\n",
       "</div>"
      ],
      "text/plain": [
       "        date                       device_id  sessions   tts     tps  \\\n",
       "0 2021-05-21  yb0YMYO4QAyxb9cSsO4iGBpV9VSbXa         1   392  392.00   \n",
       "1 2021-09-26  JzG2JaSOoO7wvPmfmnocXKQdoI9r24         1     6    6.00   \n",
       "2 2021-11-23  baPdvtjbrRxztRCNnuaQodr6ZvwwFn         2   266  133.00   \n",
       "3 2021-07-01  8zfpLx8jdEwirtXKTPlrGQUB0y58Rb        22  1987   90.32   \n",
       "4 2021-03-31  PRJOvGZtFVtGlS4qcgXZaqKicB8g7Q        88  2561   29.10   \n",
       "\n",
       "    app_name  android  month month_name  day  ... tts_boxcox  tps_boxcox  \\\n",
       "0  instagram  unknown      3        May    4  ...   7.720724    6.415609   \n",
       "1  instagram  unknown      4  September    6  ...   1.931261    1.830445   \n",
       "2   whatsapp  android      3   November    1  ...   7.095537    5.185791   \n",
       "3  pinterest  android      1       July    3  ...  10.566469    4.753111   \n",
       "4   facebook  unknown      7      March    2  ...  11.046936    3.509391   \n",
       "\n",
       "   sessions_scaled  tts_scaled  tps_scaled  sessions_stand  tts_stand  \\\n",
       "0         0.000000    0.352369    0.462865       -0.570834  -0.284362   \n",
       "1         0.000000    0.061241    0.091619       -0.570834  -1.872475   \n",
       "2         0.001451    0.320931    0.363291       -0.510790  -0.455858   \n",
       "3         0.030479    0.495469    0.328258        0.690078   0.496257   \n",
       "4         0.126270    0.519630    0.227558        4.652944   0.628054   \n",
       "\n",
       "   tps_stand  app_number  android_num  \n",
       "0   0.740284           1            1  \n",
       "1  -1.909764           1            1  \n",
       "2   0.029497           6            0  \n",
       "3  -0.220575           2            0  \n",
       "4  -0.939398           0            1  \n",
       "\n",
       "[5 rows x 21 columns]"
      ]
     },
     "execution_count": 30,
     "metadata": {},
     "output_type": "execute_result"
    }
   ],
   "source": [
    "from sklearn import preprocessing\n",
    "  \n",
    "label_encoder = preprocessing.LabelEncoder()\n",
    "  \n",
    "data['app_number']= label_encoder.fit_transform(data['app_name'])\n",
    "data['android_num']= label_encoder.fit_transform(data['android'])\n",
    "\n",
    "data.head()"
   ]
  },
  {
   "cell_type": "markdown",
   "metadata": {},
   "source": [
    "## Saving Working Data"
   ]
  },
  {
   "cell_type": "code",
   "execution_count": 31,
   "metadata": {},
   "outputs": [],
   "source": [
    "data.to_csv('working_data.csv', index=False)"
   ]
  },
  {
   "cell_type": "code",
   "execution_count": null,
   "metadata": {},
   "outputs": [],
   "source": []
  }
 ],
 "metadata": {
  "kernelspec": {
   "display_name": "Python 3",
   "language": "python",
   "name": "python3"
  },
  "language_info": {
   "codemirror_mode": {
    "name": "ipython",
    "version": 3
   },
   "file_extension": ".py",
   "mimetype": "text/x-python",
   "name": "python",
   "nbconvert_exporter": "python",
   "pygments_lexer": "ipython3",
   "version": "3.8.5"
  }
 },
 "nbformat": 4,
 "nbformat_minor": 4
}
